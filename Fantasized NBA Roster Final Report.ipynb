{
 "cells": [
  {
   "cell_type": "markdown",
   "metadata": {},
   "source": [
    "### CS/ECE/ISyE 524 &mdash; Introduction to Optimization &mdash; Summer 2019 ###\n",
    "\n",
    "# Fantasized NBA Roster #\n",
    "\n",
    "#### KangQi Fu (kfu9@wisc.edu), Nathan Logan (nlogan2@wisc.edu), Brennan Fife (bfife@wisc.edu)\n",
    "\n",
    "### Table of Contents\n",
    "\n",
    "1. [Introduction](#1.-Introduction)\n",
    "1. [Mathematical Model](#2.-Mathematical-model)<br>\n",
    "    2A. [Winning Percentage Model](#2A.-Winning-Percentage-Model)<br>\n",
    "    2B. [Sweet Spot Model](#2B.-Sweet-Spot-Model)\n",
    "1. [Solution](#3.-Solution)<br>\n",
    "    3A. [Winning Percentage Model](#3A.-Winning-Percentage-Model)<br>\n",
    "    3B. [Sweet Spot Model](#3B.-Sweet-Spot-Model)\n",
    "1. [Results and Discussion](#4.-Results-and-discussion)<br>\n",
    "    4A1. [Winning Percentage Model Results](#4A1.-Winning-Percentage-Model-Results)<br>\n",
    "    4A2. [Winning Percentage Model Discussion](#4A2.-Winning-Percentage-Model-Discussion)<br>\n",
    "    4B1. [Sweet Spot Model Results](#4B1.-Sweet-Spot-Model-Results)<br>\n",
    "    4B2. [Sweet Spot Model Discussion](#4B2.-Sweet-Spot-Model-Discussion)<br>\n",
    "1. [Conclusion](#5.-Conclusion)"
   ]
  },
  {
   "cell_type": "markdown",
   "metadata": {},
   "source": [
    "## 1. Introduction ##\n",
    "\n",
    "This report seeks to design optimization models around selecting NBA players for an NBA team. Since the 1940s, NBA teams have utilized specialized tools, statistics, and models to assist them in constructing optimal lineups. As listed by [nbastuffer.com](https://www.nbastuffer.com/analytics101/nba-teams-that-have-analytics-department/), every NBA team currently has an analytics department, supplying their organizations with knowledge of how to best match current rosters with offseason transactions. Even popular games such as the NBA 2K series to ESPN's Fantasy Basketball League, have given hardcore fans the chance to craft a fantasized lineup for their favorite clubs. With such demand, we will examine two models one can take to assist them in selecting for an optimal, fantasized NBA lineup. \n",
    "\n",
    "**In our first model**, we look to maximize a team's winning percentage by selecting players around their offensive (higher = better) and defensive (lower = better) efficiency rating from the 2018-2019 NBA season (provided by [NBAstatstuffer.com]((https://www.nbastuffer.com/2018-2019-nba-player-stats/))). \n",
    "\n",
    "Then, using these two parameters, by using player's salaries (provided by [basketball-reference.com](https://www.basketball-reference.com/contracts/players.html)), we can offer various lineups for teams. This model takes advantage of integer linear programming with binary variables. Whereas linear programming maximizes (or minimizes) a linear objective function (subject to one or more constraints), integer linear programming adds the additional condition that players' selection can only either 0 (don't choose this player), or 1, (choose this player). Thus, we get a decisive decision on who to select and who not to select.\n",
    "To simplify problem, assumptions that we made include:\n",
    "1. Each team consists of 5 starters and 5 benchers.\n",
    "2. Due to the limitation of dataset, each team has 2 centers (one for starter and one for bencher), 4 forwards (two for starter, two for bencher), and 4 guards(two for starter, two for bencher).\n",
    "3. The contribution of starters and benchers to a whole team is weighted.\n",
    "4. All the data (salary of each player, salary cap of each team, offensive and deffensive rating, PERs, positions, ...) are from 2018-2019 season.\n",
    "\n",
    "**In the second model**, rather than using efficiency ratings, we apply a player's shooting 'sweet spot', which is player's best shooting spots, to optimize the lineup. By considering both the number of 'sweet spots' of the whole team and its distribution on the half court, we can calculate the optimal lineup a team can have on the court. In this model, we synthetically generated x, y coordinates(based on the basketball image attached below, the range for x coordinate of 'sweet spot' is from 0 to 24 ft and for y coordinate of 'sweet spot' is from 0 to 48), corresponding to halfcourt (only focus the shooting area), and accounted for a player's positions (e.g., centers shoot near the rim, whereas guards shoot 3-pointers). From thirty players, we pick a lineup of 5 (two guards, two forwards, and a center). To simplify problem, assumptions that we made include:\n",
    "1. Each team only has 5 players.\n",
    "2. There are two guards, two forwards, and one center in each team.\n",
    "3. The offensive area is 48 by 24 (ft), since we only focus on the normal shooting area.\n",
    "4. Dataset ((x, y) coordinates of sweet spots a player has) are generated based on their position.\n",
    "5. We totally have thirty players and we pick up 5 players and test all 142506 combinations.\n",
    "6. TODO: Ask Nathan to write about his key assumptions in the second model.\n",
    "\n",
    "![fixit flowchart][flow]\n",
    "\n",
    "In both of these models, we first provide the mathematical model and the corresponding code, we examine results, offer our interpretations of the data, any limitations we experienced, and possible improvements that could be made.\n",
    "\n",
    "[flow]: https://www.sportsfeelgoodstories.com/wp-content/uploads/2019/01/nbacourt.jpg"
   ]
  },
  {
   "cell_type": "markdown",
   "metadata": {},
   "source": [
    "## 2. Mathematical model ##\n",
    "\n",
    "### 2A. Winning Percentage Model\n",
    "In this model, we are using real dataset to find the fantasy NBA roster based on optimizing the winning percentage of a team. We use all the players offensive rating(# of points that player can get, higher better), and defensive rating(# of points that player can lose, lower better) to measure the team's winning percentage.\n",
    "#### Type of the model: Linear program with binary variable\n",
    "The winning percentage model is a linear program with binary variable. A 0-1 binary variable is used to pick players.\n",
    "#### Variables\n",
    "Below is the table that contains all the variables used in this math model.\n",
    "\n",
    "| Variables        | Descriptions            |Type   |\n",
    "|:-----------------|:------------------------|:------|\n",
    "|$p_i$             |player $i$               |binary |\n",
    "|$ofr_i$           |Off rating of player $i$ |Real   |\n",
    "|$dfr_i$           |Def rating of player $i$ |Real   |\n",
    "|$s_i$             |Salary of player $i$     |Real   |\n",
    "|$SC$              |Salary Cap               |Real   |\n",
    "|$w_i$             |coefficients($i$=1:5)    |Real   |\n",
    "\n",
    "**Note**: Variable $p_i$ is a 0-1 binary variable, where 0 means do not choose this player and 1 means choose this player.\n",
    "#### Objective function\n",
    "The objective function indicates the relationship between winning percentage and starters and benchers' defensive rating and offensive rating. In the equation, $w_i$ is weights of each term. It is trained by minimizing least square error in the real dataset that contains 30 real NBA team's winning percentage and corresponding players defense and offense rating. In the data that will introduce in the solution section(3A. [Winning Percentage Model](#3A.-Winning-Percentage-Model)), from index $i = 1$ to $i =5n$ are starter players, and from index $i = 5n + 1$ to $i =10n$ are bencher players. Since there are 30 teams in the leagure, we set n = 30 in our solution section. The equation is given below: <br>\n",
    "\n",
    "$\\begin{aligned}\n",
    "  w_0 + w_1\\sum_{i=1}^{5n}(p_i\\times ofr_i)+\n",
    "  w_2\\sum_{i=5n+1}^{10n}(p_i\\times ofr_i)+\n",
    "  w_3\\sum_{i=1}^{5n}(p_i\\times dfr_i)+\n",
    "  w_2\\sum_{i=5n+1}^{10n}(p_i\\times dfr_i)\n",
    "  \\end{aligned}$\n",
    "####  Constraints\n",
    "There are two types of constraints in this model. The first one is that the total salary of all the selected player should be lower than salary cap in 2018-2019 season.<br>\n",
    "$\\sum_{i=1}^{10n}s_i\\times p_i \\leq SC$\n",
    "\n",
    "The second type of constraint is to restrict the amount of player in each position. In the dataset, index $i=1$ to $i=n$ is starter center, index $i=n+1$ to $i=3n$ is starter forward, index $i=3n+1$ to $i=5n$ is starter guard, and from $i=5n+1$ to $i=10n$ is the bencher in same sequence as starters.\n",
    "$\\sum_{i=1}^{n}p_i = 1$<br>\n",
    "$\\sum_{i=n+1}^{3n}p_i = 2$<br>\n",
    "$\\sum_{i=3n+1}^{5n}p_i = 2$<br>\n",
    "$\\sum_{i=5n+1}^{6n}p_i = 1$<br>\n",
    "$\\sum_{i=6n+1}^{8n}p_i = 2$<br>\n",
    "$\\sum_{i=8n+1}^{10n}p_i = 2$<br>\n",
    "\n",
    "#### Entire Math Model in standard form\n",
    "Entire winning percentage model\n",
    "$$\\begin{aligned}\n",
    "\\underset{p_i}{\\max} \\ & w_0 + w_1\\sum_{i=1}^{5n}(p_i\\times ofr_i)+\n",
    "  w_2\\sum_{i=5n+1}^{10n}(p_i\\times ofr_i)+\n",
    "  w_3\\sum_{i=1}^{5n}(p_i\\times dfr_i)+\n",
    "  w_4\\sum_{i=5n+1}^{10n}(p_i\\times dfr_i) \\\\\n",
    "\\text{s.t.} \\ & \\sum_{i=1}^{10n}s_i\\times p_i \\leq SC&\\\\\n",
    "& \\sum_{i=1}^{n}p_i \\leq 1 &\\\\\n",
    "& -\\sum_{i=1}^{n}p_i \\leq -1 &\\\\\n",
    "& \\sum_{i=n+1}^{3n}p_i \\leq 2 &\\\\\n",
    "& -\\sum_{i=n+1}^{3n}p_i \\leq -2 &\\\\\n",
    "& \\sum_{i=3n+1}^{5n}p_i \\leq 2 &\\\\\n",
    "& -\\sum_{i=3n+1}^{5n}p_i \\leq -2 &\\\\\n",
    "& \\sum_{i=5n+1}^{6n}p_i \\leq 1 &\\\\\n",
    "& -\\sum_{i=5n+1}^{6n}p_i \\leq -1 &\\\\\n",
    "& \\sum_{i=6n+1}^{8n}p_i \\leq 2 &\\\\\n",
    "& -\\sum_{i=6n+1}^{8n}p_i \\leq -2 &\\\\\n",
    "& \\sum_{i=8n+1}^{10n}p_i \\leq 2 &\\\\\n",
    "& -\\sum_{i=8n+1}^{10n}p_i \\leq -2 &\\\\\n",
    "& p_i \\in \\{0,1\\}\n",
    "\\end{aligned}$$\n",
    "\n",
    "### 2B. Sweet Spot Model\n",
    "This model chooses player based on considering both the distribution and the total number of sweet spots of the team.\n",
    "\n",
    "#### Type of the model: Linear program with binary variable\n",
    "The 'Sweet spot' model is a linear program with binary variable. A 0-1 binary variable is used to pick players.\n",
    "#### Variables\n",
    "\n",
    "| Variables        | Descriptions                                               |Type   |\n",
    "| -----------------|----------------------------------------------------------: |:------|\n",
    "| $i$              |team $i$ with 5 players                                     |array  |\n",
    "| $p_{ij}$         |# sweet spots in each partitions of team $i$|array  |\n",
    "| $\\lambda$        |trade off parameter                                         |real   |\n",
    "| $P_i$            |total number of sweet spots that team $i$ has               |real   |\n",
    "| $n$              |number of partitions of half court                          |real   |\n",
    "\n",
    "#### Constraints \n",
    "TODO: Revise the constrains of positions\n",
    "$$\\begin{aligned}\n",
    "  &\\ p_i \\in \\{0,1\\}\\\\\n",
    "  &\\ \\sum_{j=1}^{n}p_{ij} = P_i\\\\\n",
    "  &\\ \\sum_{i=(k-1)n}^{kn}p_i = 1(\\text{where k=1:10})\\\\\n",
    "  &\\ \\lambda\\leq1\n",
    "  \\end{aligned}$$\n",
    "\n",
    "#### Objective function\n",
    "The objective function presents the tradeoff between the total amount of team's sweet spots and the distribution of these sweet spots. The first term before minus sign in the objective function below is the total amount of team's sweet spots, the second term represents the function to evaluate the distrbution because a team that has all the sweet spots in a small region is definitely not a good team even though the total number of sweet spots is huge. So in our math model, we divide the court in to n parts (specificlly, here in solution section, we set n equals 9) and assign each player's collection of sweet spots to each of this n parts of the court. Since the best distribution is the team's sweet spots are evenly distributed, that is each partition has the same amount of sweet spots(total divided by n), we just use the the second term to measure the difference between real distribution and optimal distribution.\n",
    "$$\\begin{aligned}\n",
    "  \\lambda P_i + (1 - \\lambda)\\sum_{j=1}^{n}(p_{ij} - \\dfrac{P_i}{n})^{2}\n",
    "  \\end{aligned}$$\n",
    "\n",
    "#### Entire Math Model in standard form\n",
    "$$\\begin{aligned}\n",
    "\\underset{i}{\\max} \\ & \\lambda P_i + (1 - \\lambda)\\sum_{j=1}^{n}(p_{ij} \n",
    "- \\dfrac{P_i}{n})^{2}\\\\\n",
    "\\text{s.t.} \\ &\\ \\sum_{j=1}^{n}p_{ij} = P_i\\\\\n",
    "& \\sum_{i=(k-1)n}^{kn}p_i = 1(\\text{where k=1:10}) &\\\\\n",
    "& p_i \\in \\{0,1\\}\n",
    "\\end{aligned}$$"
   ]
  },
  {
   "cell_type": "markdown",
   "metadata": {},
   "source": [
    "## 3. Solution ##\n",
    "### 3A. Winning Percentage Model"
   ]
  },
  {
   "cell_type": "code",
   "execution_count": 2,
   "metadata": {},
   "outputs": [
    {
     "name": "stdout",
     "output_type": "stream",
     "text": [
      "627×7 DataFrames.DataFrame. Omitted printing of 3 columns\n",
      "│ Row │ Starter (=1) │ FULL NAME        │ TEAM    │ POS     │\n",
      "├─────┼──────────────┼──────────────────┼─────────┼─────────┤\n",
      "│ 1   │ \u001b[90mmissing\u001b[39m      │ \u001b[90mmissing\u001b[39m          │ \u001b[90mmissing\u001b[39m │ \u001b[90mmissing\u001b[39m │\n",
      "│ 2   │ 1            │ Dewayne Dedmon   │ Atl     │ C       │\n",
      "│ 3   │ \u001b[90mmissing\u001b[39m      │ Isaac Humphries  │ Atl     │ C       │\n",
      "│ 4   │ \u001b[90mmissing\u001b[39m      │ Alex Len         │ Atl     │ C       │\n",
      "│ 5   │ \u001b[90mmissing\u001b[39m      │ Miles Plumlee    │ Atl     │ C       │\n",
      "│ 6   │ \u001b[90mmissing\u001b[39m      │ Tyler Zeller     │ Atl     │ C       │\n",
      "│ 7   │ \u001b[90mmissing\u001b[39m      │ Deyonta Davis    │ Atl     │ C       │\n",
      "│ 8   │ \u001b[90mmissing\u001b[39m      │ DeAndre' Bembry  │ Atl     │ F       │\n",
      "⋮\n",
      "│ 619 │ \u001b[90mmissing\u001b[39m      │ Ron Baker        │ Was     │ G       │\n",
      "│ 620 │ 1            │ Bradley Beal     │ Was     │ G       │\n",
      "│ 621 │ \u001b[90mmissing\u001b[39m      │ Jordan McRae     │ Was     │ G       │\n",
      "│ 622 │ \u001b[90mmissing\u001b[39m      │ Gary Payton II   │ Was     │ G       │\n",
      "│ 623 │ \u001b[90mmissing\u001b[39m      │ Chasson Randle   │ Was     │ G       │\n",
      "│ 624 │ \u001b[90mmissing\u001b[39m      │ Austin Rivers    │ Was     │ G       │\n",
      "│ 625 │ 1            │ John Wall        │ Was     │ G       │\n",
      "│ 626 │ \u001b[90mmissing\u001b[39m      │ Tomas Satoransky │ Was     │ G-F     │\n",
      "│ 627 │ \u001b[90mmissing\u001b[39m      │ \u001b[90mmissing\u001b[39m          │ \u001b[90mmissing\u001b[39m │ \u001b[90mmissing\u001b[39m │\n"
     ]
    }
   ],
   "source": [
    "using CSV, NamedArrays, DataFrames\n",
    "\n",
    "stats = CSV.read(\"FBStats.csv\") \n",
    "# Full Data Set of players (627 rows)\n",
    "# 7 Columns: \n",
    "# 1(Starter binary variable), 2(Player Name), 3(Team Name), 4(Player position), 5(Off Rating), 6(Def Rating), 7(Team win%)\n",
    "\n",
    "println(stats)"
   ]
  },
  {
   "cell_type": "markdown",
   "metadata": {},
   "source": [
    "This CSV is a data set of over 600 players listing their **position** in the lineup, their **name**, **team**, **position**, **offensive rating (OR)**, **defensive rating (DR)**, as well as the **win percentage** of their corresponding teams. It functions as the primary resource for determining the **300 players** we use in our first optimization problem and the **30 players** used in the second problem. "
   ]
  },
  {
   "cell_type": "markdown",
   "metadata": {},
   "source": [
    "### Determine the best bench players per team"
   ]
  },
  {
   "cell_type": "code",
   "execution_count": 3,
   "metadata": {},
   "outputs": [
    {
     "name": "stdout",
     "output_type": "stream",
     "text": [
      "30×5 Named Array{String,2}\n",
      "A ╲ B │                         1  …                          5\n",
      "──────┼────────────────────────────────────────────────────────\n",
      "1     │           \"Deyonta Davis\"  …               \"Jeremy Lin\"\n",
      "2     │     \"Robert Williams III\"              \"Brad Wanamaker\"\n",
      "3     │                \"Ed Davis\"                  \"Joe Harris\"\n",
      "4     │         \"Bismack Biyombo\"             \"Devonte' Graham\"\n",
      "5     │       \"Cristiano Felicio\"     \"Timothe Luwawu-Cabarrot\"\n",
      "6     │              \"Ante Zizic\"               \"Cameron Payne\"\n",
      "7     │           \"Dwight Powell\"              \"Ryan Broekhoff\"\n",
      "8     │           \"Mason Plumlee\"               \"Malik Beasley\"\n",
      "9     │           \"Zaza Pachulia\"           \"Langston Galloway\"\n",
      "⋮                               ⋮  ⋱                          ⋮\n",
      "22    │              \"Khem Birch\"                \"Jerian Grant\"\n",
      "23    │             \"Greg Monroe\"               \"Landry Shamet\"\n",
      "24    │          \"Richaun Holmes\"                \"Troy Daniels\"\n",
      "25    │          \"Meyers Leonard\"                 \"Rodney Hood\"\n",
      "26    │         \"Harry Giles III\"                \"Yogi Ferrell\"\n",
      "27    │            \"Jakob Poeltl\"                 \"Patty Mills\"\n",
      "28    │       \"Jonas Valanciunas\"                 \"Jodie Meeks\"\n",
      "29    │               \"Ekpe Udoh\"                 \"Kyle Korver\"\n",
      "30    │           \"Thomas Bryant\"  …         \"Tomas Satoransky\"\n"
     ]
    }
   ],
   "source": [
    "# Reduce the data set to the 5 best starters and 5 best bench players for all 30 teams (150 starters, 150 bench players)\n",
    "\n",
    "function fCenter(i) # If column 6 of player index i is C(enter)\n",
    "    if (length(c) == 0) # Are there any centers\n",
    "        push!(c, i) # No centers, push player onto array c[] (array size 1)\n",
    "    elseif ((stats[c[1],5] - stats[c[1], 6]) < (stats[i, 5] - stats[i, 6])) # Is the current indexed center a better Center\n",
    "        c[1] = i # Replace the center with the \"superior\" player\n",
    "    end\n",
    "end\n",
    "\n",
    "function fForward(i) # If column 6 of player index i is F(orward)\n",
    "    if (length(f) == 0) # Are there any forwards\n",
    "        push!(f, i) # No forwards, push player onto array f[] (array size 2)\n",
    "    # Is the current forward superior to the forward at index 1 of f[]\n",
    "    elseif ((stats[f[1],5] - stats[f[1], 6]) <= (stats[i, 5] - stats[i, 6])) \n",
    "        if length(f) != 1 # Are there 2 forwards in f\n",
    "            pop!(f) # Remove player on the end of f\n",
    "        end\n",
    "        unshift!(f, i) # add current indexed player to front of f\n",
    "    elseif (length(f) == 1) # Only 1 forward player currently (need 2)\n",
    "        push!(f, i) # Add player to the end of f\n",
    "    # Is the current forward superior to the forward at index 2 of f\n",
    "    elseif ((stats[f[2],5] - stats[f[2], 6]) < (stats[i, 5] - stats[i, 6])) \n",
    "        pop!(f) # Remove last positioned forward\n",
    "        push!(f, i) # Add player to the end of f\n",
    "    end\n",
    "end\n",
    "\n",
    "function fGuard(i) # If column 6 of player index i is G(uard)\n",
    "    if (length(g) == 0) # Are there any guards\n",
    "        push!(g, i) # No guards, push player onto array g[] (array size 2)\n",
    "    # Is the current guard superior to the guard at index 1 of g[]\n",
    "    elseif ((stats[g[1],5] - stats[g[1], 6]) <= (stats[i, 5] - stats[i, 6]))\n",
    "        if length(g) != 1 # Are there 2 guards in g\n",
    "            pop!(g) # Remove player on the end of g\n",
    "        end\n",
    "        unshift!(g, i) # add current indexed player to the front of g\n",
    "    elseif (length(g) == 1) # Only 1 guard player currently (need 2)\n",
    "        push!(g, i) # Add player to the end of g\n",
    "    # Is the current guard superior to the guard at index 2 of f\n",
    "    elseif ((stats[g[2],5] - stats[g[2], 6]) < (stats[i, 5] - stats[i, 6])) \n",
    "        pop!(g) # Remove last positioned guard\n",
    "        push!(g, i) # Add player to the end of g\n",
    "    end\n",
    "end\n",
    "\n",
    "c = Int64[] # Hold index of the best center (length at most 1)\n",
    "f = Int64[] # Hold index of the two best forwards (length at most 2)\n",
    "g = Int64[] # Hold index of the two best guards (length at most 2)\n",
    "team = 1 # Track which team is currently being indexed (1:30)\n",
    "bench = Array{String}(30,5) # Hold the best 5 bench players for all 30 teams\n",
    "for i in 2:627 # from row 2 to row 627\n",
    "    if (typeof(stats[i, 7]) == Missings.Missing) # type Missings.Missing expected unless moving to the next team\n",
    "        if (typeof(stats[i,1]) == Missings.Missing) # type Missings.Missing expected for all bench players\n",
    "            if (stats[i,4][1] == 'C') # Is the player a center\n",
    "                fCenter(i) # Determine their position as a center\n",
    "                continue\n",
    "            end\n",
    "            if (stats[i,4][1] == 'G') # Is the player a Guard\n",
    "                fGuard(i) # Determine their position as a guard\n",
    "                continue\n",
    "            end\n",
    "            if (length(stats[i,4]) == 3) # If the player has a secondary position\n",
    "                if (stats[i,4][3] == 'C') # Is the player a secondary center \n",
    "                    fCenter(i) # Determine their position as a center\n",
    "                    continue\n",
    "                end\n",
    "                if (stats[i,4][3] == 'F') # Is the player a secondary forward\n",
    "                    fForward(i) # Determine their position as a forward\n",
    "                    continue \n",
    "                end\n",
    "                if (stats[i,4][3] == 'G') # Is the player a secondary guard\n",
    "                    fGuard(i) # Determine their position as a guard\n",
    "                    continue\n",
    "                end\n",
    "            end\n",
    "            if (stats[i,4][1] == 'F') # Is the player a forward (after all other cases to accomidate center deficit)\n",
    "                fForward(i) # Determine their position  as a forward\n",
    "                continue\n",
    "            end\n",
    "        end\n",
    "    else # Detected a Float64 type (team win %)\n",
    "        bench[team, 1] = stats[c[1], 2] # Add center to the bench at index 1\n",
    "        bench[team, 2] = stats[f[1], 2] # Add the best forward to the bench at index 2\n",
    "        bench[team, 3] = stats[f[2], 2] # Add the second best forward to the bench at index 3\n",
    "        bench[team, 4] = stats[g[1], 2] # Add the best guard to the bench at index 4\n",
    "        bench[team, 5] = stats[g[2], 2] # Add the second best guard to the bench at index 5\n",
    "        team = team + 1 # Increment the team being filtered\n",
    "        c = Int64[] # Reset center array\n",
    "        f = Int64[] # Reset forward array\n",
    "        g = Int64[] # Reset guard array\n",
    "    end\n",
    "end\n",
    "println(NamedArray(bench))"
   ]
  },
  {
   "cell_type": "markdown",
   "metadata": {},
   "source": [
    "As most teams have a random number of bench players in their lineup, we decided to find the 150 best bench players (5 non-starters for each team) by taking the best center, two best forwards, and two best guards for each team and updating our data set to match our resulting teams of 10."
   ]
  },
  {
   "cell_type": "code",
   "execution_count": 5,
   "metadata": {},
   "outputs": [
    {
     "name": "stdout",
     "output_type": "stream",
     "text": [
      "331×7 DataFrames.DataFrame. Omitted printing of 5 columns\n",
      "│ Row │ Starter (=1) │ FULL NAME        │\n",
      "├─────┼──────────────┼──────────────────┤\n",
      "│ 1   │ \u001b[90mmissing\u001b[39m      │ \u001b[90mmissing\u001b[39m          │\n",
      "│ 2   │ 1            │ Dewayne Dedmon   │\n",
      "│ 3   │ 1            │ Taurean Prince   │\n",
      "│ 4   │ 1            │ John Collins     │\n",
      "│ 5   │ 1            │ Kent Bazemore    │\n",
      "│ 6   │ 1            │ Trae Young       │\n",
      "│ 7   │ \u001b[90mmissing\u001b[39m      │ Deyonta Davis    │\n",
      "│ 8   │ \u001b[90mmissing\u001b[39m      │ BJ Johnson       │\n",
      "⋮\n",
      "│ 323 │ 1            │ Otto Porter Jr.  │\n",
      "│ 324 │ 1            │ Bradley Beal     │\n",
      "│ 325 │ 1            │ John Wall        │\n",
      "│ 326 │ \u001b[90mmissing\u001b[39m      │ Thomas Bryant    │\n",
      "│ 327 │ \u001b[90mmissing\u001b[39m      │ Jeff Green       │\n",
      "│ 328 │ \u001b[90mmissing\u001b[39m      │ Devin Robinson   │\n",
      "│ 329 │ \u001b[90mmissing\u001b[39m      │ Gary Payton II   │\n",
      "│ 330 │ \u001b[90mmissing\u001b[39m      │ Tomas Satoransky │\n",
      "│ 331 │ \u001b[90mmissing\u001b[39m      │ \u001b[90mmissing\u001b[39m          │\n",
      "601×4 DataFrames.DataFrame\n",
      "│ Row │ Rk  │ Player             │           │ 2018-19   │\n",
      "├─────┼─────┼────────────────────┼───────────┼───────────┤\n",
      "│ 1   │ 1   │ Stephen Curry      │ curryst01 │ 3.74572e7 │\n",
      "│ 2   │ 2   │ LeBron James       │ jamesle01 │ 3.56542e7 │\n",
      "│ 3   │ 3   │ Russell Westbrook  │ westbru01 │ 3.56542e7 │\n",
      "│ 4   │ 4   │ Chris Paul         │ paulch01  │ 3.56542e7 │\n",
      "│ 5   │ 5   │ Blake Griffin      │ griffbl01 │ 3.20889e7 │\n",
      "│ 6   │ 6   │ Gordon Hayward     │ haywago01 │ 3.12143e7 │\n",
      "│ 7   │ 7   │ Kyle Lowry         │ lowryky01 │ 3.12e7    │\n",
      "│ 8   │ 8   │ Paul George        │ georgpa01 │ 3.05607e7 │\n",
      "⋮\n",
      "│ 593 │ 593 │ Alex Poythress     │ n         │ 77250.0   │\n",
      "│ 594 │ 594 │ Johnathan Motley   │ n         │ 79568.0   │\n",
      "│ 595 │ 595 │ Johnathan Williams │ n         │ 127250.0  │\n",
      "│ 596 │ 596 │ Devin Robinson     │ n         │ 77250.0   │\n",
      "│ 597 │ 597 │ RJ Hunter          │ n         │ 77250.0   │\n",
      "│ 598 │ 598 │ Alex Caruso        │ n         │ 2.75e6    │\n",
      "│ 599 │ 599 │ Kadeem Allen       │ n         │ 77250.0   │\n",
      "│ 600 │ 600 │ Jordan Loyd        │ n         │ 77250.0   │\n",
      "│ 601 │ 601 │ Kalin Lucas        │ n         │ 648000.0  │\n"
     ]
    }
   ],
   "source": [
    "true_set = CSV.read(\"TrueDataSet.csv\") # Filtered Data Set of 300 players (150 starters, 150 bench players, 30 teams)\n",
    "println(true_set)\n",
    "\n",
    "S = CSV.read(\"Salary.csv\") # Yearly salaries of players\n",
    "println(S)"
   ]
  },
  {
   "cell_type": "markdown",
   "metadata": {},
   "source": [
    "These CSVs represent our 30 teams, composing a possible lineup of 300 players and a 600 player data set containing salaries respectively. As our original data set does not include player yearly salaries, we are using separate data sets for both and joining them when constructing our player data structure later in the project. The salary column is to ensure we do not just draft an all-star team (as we are **assuming** the better players are paid more). "
   ]
  },
  {
   "cell_type": "markdown",
   "metadata": {},
   "source": [
    "### Assemble team data set and find the coefficients for model 1"
   ]
  },
  {
   "cell_type": "code",
   "execution_count": 6,
   "metadata": {},
   "outputs": [
    {
     "name": "stdout",
     "output_type": "stream",
     "text": [
      "30×5 Named Array{Float64,2}\n",
      "          A ╲ B │ Starter OffR    Bench OffR  …    Bench DefR      Constant\n",
      "────────────────┼──────────────────────────────────────────────────────────\n",
      "Atlanta         │        549.7         588.6  …         536.0           1.0\n",
      "Boston          │        566.2         630.5            488.7           1.0\n",
      "Brooklyn        │        540.1         611.5            493.1           1.0\n",
      "Charlotte       │        574.8         567.6            527.2           1.0\n",
      "Chicago         │        526.9         570.8            529.3           1.0\n",
      "Clevland        │        550.8         577.0            537.6           1.0\n",
      "Dallas          │        539.9         607.9            528.8           1.0\n",
      "Denver          │        555.6         591.7            517.8           1.0\n",
      "Detroit         │        543.2         603.1            478.8           1.0\n",
      "⋮                            ⋮             ⋮  ⋱             ⋮             ⋮\n",
      "Orlando         │        556.7         608.6            492.5           1.0\n",
      "Philadelphia    │        528.2         635.8            513.0           1.0\n",
      "Phoenix         │        515.2         552.1            511.9           1.0\n",
      "Portland        │        584.1         600.9            519.7           1.0\n",
      "Sacramento      │        544.8         551.7            500.8           1.0\n",
      "San Antonio     │        570.9         606.3            529.4           1.0\n",
      "Toronto         │        564.7         611.6            492.0           1.0\n",
      "Utah            │        578.7         579.6            494.3           1.0\n",
      "Washington      │        550.3         629.8  …         530.1           1.0\n",
      "\n",
      "The best coefficients found by least sqaure is: [0.00387412; 0.000929683; -0.00563723; -0.00066789; 1.09433]\n"
     ]
    }
   ],
   "source": [
    "# Holds the Offensive and Defensive ratings of starters and bench players for use in defining coefficients\n",
    "team_set = Array{Float64, 2}(30, 5)\n",
    "\n",
    "n = 0 # increments by 11 to indicate the next team\n",
    "\n",
    "for i in 1:30 # iterate through the teams\n",
    "    team_set[i,1] = sum(true_set[2+n:6+n,3]) # Sum up the OffR of all 5 starters\n",
    "    team_set[i,2] = sum(true_set[7+n:11+n,3]) # Sum up the OffR of all 5 bench players\n",
    "\n",
    "    team_set[i,3] = sum(true_set[2+n:6+n,4]) # Sum up the DefR of all 5 starters\n",
    "    team_set[i,4] = sum(true_set[7+n:11+n,4]) # Sum up the DefR of all 5 bench players\n",
    "    n = n + 11 # Move onto the next team set\n",
    "end\n",
    "\n",
    "team_set[:,5] = 1.0 # Set constant for each team (W_0)\n",
    "\n",
    "nteams = NamedArray(team_set) # Create named array of teams\n",
    "\n",
    "# Label rows by team named\n",
    "setnames!(nteams, [\"Atlanta\", \"Boston\", \"Brooklyn\", \"Charlotte\", \"Chicago\", \"Clevland\", \"Dallas\", \n",
    "        \"Denver\", \"Detroit\", \"Golden State\", \"Houston\", \"Indiana\", \"LA Clippers\", \"LA Lakers\", \n",
    "        \"Memphis\", \"Miami\", \"Milwaukee\", \"Minnesota\", \"New Orleans\", \"New York Knicks\", \"Oklahoma City\", \n",
    "        \"Orlando\", \"Philadelphia\", \"Phoenix\", \"Portland\", \"Sacramento\", \"San Antonio\", \"Toronto\", \"Utah\", \"Washington\"], 1)\n",
    "# Label columns by statistic\n",
    "setnames!(nteams, [\"Starter OffR\", \"Bench OffR\", \"Starter DefR\", \"Bench DefR\", \"Constant\"], 2)\n",
    "show(nteams)\n",
    "\n",
    "winP = Array{Float64}(30, 1) # Hold the expected win % of each team (row 7 of true_set)\n",
    "\n",
    "for i in 1:30 # Iterate over teams\n",
    "    winP[i] = true_set[i*10-(10-i), 7] # assign win % to team index\n",
    "end\n",
    "\n",
    "w = inv(team_set'*team_set)*(team_set'*winP) # Derive the coefficients using least\n",
    "println(\"\\n\\nThe best coefficients found by least sqaure is: \", w)"
   ]
  },
  {
   "cell_type": "markdown",
   "metadata": {},
   "source": [
    "In order to determine our coefficients when calculating the best team composition and projected winning percentage for our team, we create a data set of our 30 teams and store the Offensive and Defensive ratings for both the starters and bench players of each. Then, using this array of team OffR and DefR values and the expected winning percentages of each team, we determined the coefficients using least squares. "
   ]
  },
  {
   "cell_type": "markdown",
   "metadata": {},
   "source": [
    "### Assemble player data set"
   ]
  },
  {
   "cell_type": "code",
   "execution_count": 7,
   "metadata": {},
   "outputs": [
    {
     "name": "stdout",
     "output_type": "stream",
     "text": [
      "300×4 Named Array{Union{Float64, String},2}\n",
      "A ╲ B │             Player  …              Salary\n",
      "──────┼──────────────────────────────────────────\n",
      "1     │   \"Dewayne Dedmon\"  …               7.2e6\n",
      "2     │       \"Al Horford\"              2.89287e7\n",
      "3     │    \"Jarrett Allen\"              2.03412e6\n",
      "4     │      \"Cody Zeller\"              1.35281e7\n",
      "5     │      \"Robin Lopez\"              1.43578e7\n",
      "6     │       \"Kevin Love\"               2.4119e7\n",
      "7     │   \"DeAndre Jordan\"                 2.29e7\n",
      "8     │     \"Nikola Jokic\"              2.46052e7\n",
      "9     │   \"Andre Drummond\"              2.54343e7\n",
      "⋮                        ⋮  ⋱                   ⋮\n",
      "292   │     \"Jerian Grant\"              2.63931e6\n",
      "293   │    \"Landry Shamet\"              1.70364e6\n",
      "294   │    \"Tyler Johnson\"              1.92454e7\n",
      "295   │      \"Rodney Hood\"              3.47289e6\n",
      "296   │     \"Corey Brewer\"               270496.0\n",
      "297   │      \"Patty Mills\"              1.15714e7\n",
      "298   │      \"Jodie Meeks\"               122953.0\n",
      "299   │      \"Kyle Korver\"                 7.56e6\n",
      "300   │ \"Tomas Satoransky\"  …           3.12919e6"
     ]
    }
   ],
   "source": [
    "pRost = Array{Union{String, Float64}, 2}(300, 4) # Reshape the true data set to fit structure\n",
    "# 300 rows (30 starting centers -> 60 starting forwards -> 60 starting guards\n",
    "#        -> 30 bench centers -> 60 bench forwards -> 60 bench guards         )\n",
    "# 4 rows (player name, offensive rating, defensive rating, and yearly salary)\n",
    "n = 1 # Track current index to add to p(layer)Rost(er)\n",
    "for nl in 1:11 # Current player significance and position (beginning at starting centers)\n",
    "    for i in nl:11:330 # iterate through players of specific position and role (starting center, starting forward, etc.)\n",
    "        if (typeof(true_set[i, 2]) != Missings.Missing) # Expecting types of String\n",
    "            for j in 1:3 # Loop through the player's stats\n",
    "                pRost[n, j] = true_set[i, j + 1] # Assign players name, OffR, and DefR\n",
    "            end\n",
    "            n += 1 # Increment current roster index\n",
    "        end\n",
    "    end\n",
    "end\n",
    "for i in 1:601 # Iterate through the entire salary dataset\n",
    "    for j in 1:300 # Iterate through the player roster\n",
    "        if (S[i, 2] == pRost[j, 1]) # If the salary name matches the player's name\n",
    "            pRost[j, 4] = S[i, 4] # Add the players salary to column 4 of the player roster\n",
    "        end\n",
    "    end\n",
    "end\n",
    "\n",
    "pn = NamedArray(pRost) # Create named array of players\n",
    "# Set the columns according to their attribute\n",
    "setnames!(pn, [\"Player\", \"OffR\", \"DefR\", \"Salary\"], 2)\n",
    "show(pn)"
   ]
  },
  {
   "cell_type": "markdown",
   "metadata": {},
   "source": [
    "### Line up of only five starters"
   ]
  },
  {
   "cell_type": "code",
   "execution_count": 8,
   "metadata": {},
   "outputs": [
    {
     "name": "stdout",
     "output_type": "stream",
     "text": [
      "Academic license - for non-commercial use only\n",
      "[0.0, 0.0, -0.0, -0.0, 0.0, 0.0, 0.0, 0.0, 0.0, 0.0, -0.0, 0.0, 0.0, 0.0, 0.0, 0.0, 0.0, 0.0, 0.0, 0.0, 0.0, 0.0, 0.0, 0.0, 0.0, 0.0, -0.0, 0.0, 1.0, 0.0, -0.0, -0.0, -0.0, -0.0, -0.0, -0.0, -0.0, -0.0, -0.0, -0.0, -0.0, -0.0, -0.0, -0.0, -0.0, -0.0, 1.0, -0.0, -0.0, -0.0, -0.0, -0.0, -0.0, -0.0, -0.0, -0.0, -0.0, -0.0, -0.0, -0.0, -0.0, -0.0, -0.0, -0.0, -0.0, -0.0, -0.0, -0.0, -0.0, -0.0, -0.0, -0.0, -0.0, -0.0, -0.0, -0.0, -0.0, -0.0, -0.0, -0.0, -0.0, -0.0, -0.0, -0.0, -0.0, -0.0, -0.0, -0.0, 1.0, -0.0, -0.0, -0.0, -0.0, -0.0, -0.0, -0.0, -0.0, -0.0, -0.0, -0.0, -0.0, -0.0, 1.0, -0.0, -0.0, -0.0, -0.0, -0.0, -0.0, -0.0, -0.0, -0.0, -0.0, -0.0, -0.0, -0.0, -0.0, -0.0, -0.0, -0.0, -0.0, -0.0, -0.0, -0.0, -0.0, -0.0, -0.0, -0.0, -0.0, -0.0, -0.0, -0.0, -0.0, -0.0, -0.0, -0.0, 1.0, -0.0, -0.0, -0.0, -0.0, -0.0, -0.0, -0.0, -0.0, -0.0, -0.0, -0.0, -0.0, -0.0]\n",
      "The optimized winning percentage is: 0.7078967511089141\n",
      "\n",
      "Starter Lineup: \n",
      "Rudy Gobert: 133.8, 96.7\n",
      "Giannis Antetokounmpo: 121.6, 93.9\n",
      "Derrick Favors: 124.5, 98.1\n",
      "Patrick Beverley: 119.0, 101.7\n",
      "Malcolm Brogdon: 120.9, 104.1\n"
     ]
    }
   ],
   "source": [
    "# Determine the optimal starter composition (1 center, 2 forwards, 2 guards) based on their OffR and DefR\n",
    "Budget = 109000000 # Budget for \"purchasing\" players (109,000,000)\n",
    "\n",
    "using JuMP, Gurobi\n",
    "\n",
    "m = Model(solver = GurobiSolver(OutputFlag=0))  \n",
    "\n",
    "@variable(m, p[1:150] >= 0, Bin) # Array of binary variables determining the best starting lineup\n",
    "\n",
    "@expression(m, full_lineup, w[5] + sum(w[1]*(p[i] * pRost[i, 2]) for i in 1:150) + sum(w[3]*(p[i] * pRost[i, 3]) for i in 1:150))\n",
    "\n",
    "@constraint(m, sum(p[i] for i in 1:30) <= 1) # Must have 1 center\n",
    "@constraint(m, -sum(p[i] for i in 1:30) <= -1)\n",
    "@constraint(m, sum(p[i] for i in 31:90) <= 2) # 2 forwards\n",
    "@constraint(m, -sum(p[i] for i in 31:90) <= -2)\n",
    "@constraint(m, sum(p[i] for i in 91:150) <= 2) # 2 guards\n",
    "@constraint(m, -sum(p[i] for i in 91:150) <= -2)\n",
    "\n",
    "@constraint(m, sum(p[i] * pRost[i, 4] for i in 1:150) <= Budget) # Must spend less then the budget on players\n",
    "@constraint(m, full_lineup <= 1)\n",
    "\n",
    "@objective(m, Max, full_lineup) # Maximize the lineup's Offensive Rating while minimizing Defensive Rating\n",
    "\n",
    "solve(m)\n",
    "\n",
    "println(getvalue(p[:])) # Players to use indicated by a 1.0\n",
    "\n",
    "println(\"The optimized winning percentage is: \", getobjectivevalue(m))\n",
    "\n",
    "println(\"\\nStarter Lineup: \")\n",
    "for i in 1:150 # Display lineup (C, F, F, G, G from top to bottom) and their offensive and defensive rating\n",
    "    if (getvalue(p[i]) == 1.0)\n",
    "        print(pRost[i, 1], \": \")\n",
    "        print(sum(getvalue(p[i]) * pRost[i, 2]), \", \")\n",
    "        println(sum(getvalue(p[i]) * pRost[i, 3]))\n",
    "    end\n",
    "end"
   ]
  },
  {
   "cell_type": "markdown",
   "metadata": {},
   "source": [
    "### Line up of the whole team(All 10 players)"
   ]
  },
  {
   "cell_type": "code",
   "execution_count": 9,
   "metadata": {},
   "outputs": [
    {
     "name": "stdout",
     "output_type": "stream",
     "text": [
      "Academic license - for non-commercial use only\n",
      "[-0.0, -0.0, -0.0, -0.0, -0.0, -0.0, -0.0, -0.0, -0.0, -0.0, -0.0, -0.0, -0.0, -0.0, -0.0, -0.0, -0.0, -0.0, -0.0, -0.0, -0.0, -0.0, -0.0, -0.0, -0.0, -0.0, -0.0, -0.0, 1.0, -0.0, -0.0, -0.0, -0.0, -0.0, -0.0, -0.0, -0.0, 1.0, -0.0, -0.0, -0.0, -0.0, -0.0, -0.0, -0.0, -0.0, 1.0, -0.0, -0.0, -0.0, -0.0, -0.0, -0.0, -0.0, -0.0, -0.0, -0.0, -0.0, -0.0, -0.0, -0.0, -0.0, -0.0, -0.0, -0.0, -0.0, -0.0, -0.0, -0.0, -0.0, -0.0, -0.0, -0.0, -0.0, -0.0, -0.0, -0.0, -0.0, -0.0, -0.0, -0.0, -0.0, -0.0, -0.0, -0.0, -0.0, -0.0, -0.0, 0.0, -0.0, -0.0, -0.0, -0.0, -0.0, -0.0, -0.0, -0.0, -0.0, -0.0, -0.0, -0.0, -0.0, 0.0, -0.0, -0.0, -0.0, 1.0, -0.0, -0.0, -0.0, -0.0, -0.0, -0.0, -0.0, -0.0, -0.0, -0.0, -0.0, -0.0, -0.0, -0.0, -0.0, -0.0, -0.0, -0.0, -0.0, -0.0, -0.0, -0.0, -0.0, -0.0, -0.0, -0.0, -0.0, -0.0, -0.0, -0.0, -0.0, -0.0, -0.0, -0.0, -0.0, -0.0, -0.0, -0.0, -0.0, -0.0, 1.0, -0.0, -0.0, -0.0, -0.0, 1.0, -0.0, -0.0, -0.0, -0.0, -0.0, -0.0, -0.0, -0.0, -0.0, -0.0, -0.0, -0.0, -0.0, -0.0, -0.0, -0.0, -0.0, -0.0, 0.0, -0.0, -0.0, -0.0, -0.0, -0.0, -0.0, -0.0, -0.0, -0.0, 1.0, -0.0, -0.0, -0.0, -0.0, -0.0, -0.0, -0.0, -0.0, -0.0, -0.0, -0.0, -0.0, -0.0, -0.0, -0.0, -0.0, -0.0, -0.0, -0.0, 1.0, -0.0, -0.0, -0.0, -0.0, -0.0, -0.0, -0.0, -0.0, -0.0, -0.0, -0.0, -0.0, -0.0, -0.0, -0.0, -0.0, -0.0, -0.0, -0.0, -0.0, -0.0, -0.0, -0.0, -0.0, -0.0, -0.0, -0.0, -0.0, -0.0, -0.0, -0.0, -0.0, -0.0, -0.0, -0.0, -0.0, -0.0, -0.0, -0.0, -0.0, -0.0, -0.0, -0.0, -0.0, -0.0, -0.0, -0.0, -0.0, -0.0, -0.0, -0.0, -0.0, -0.0, -0.0, -0.0, -0.0, -0.0, -0.0, -0.0, -0.0, -0.0, -0.0, -0.0, -0.0, -0.0, -0.0, -0.0, -0.0, -0.0, -0.0, -0.0, -0.0, -0.0, -0.0, -0.0, -0.0, 1.0, -0.0, -0.0, -0.0, -0.0, 1.0, -0.0, -0.0, -0.0, -0.0, -0.0, -0.0, 0.0, -0.0, -0.0, -0.0, -0.0, -0.0, -0.0, -0.0, -0.0, -0.0]\n",
      "The optimized winning percentage rate is: 0.999992137786795\n",
      "\n",
      "Starter Lineup: \n",
      "Rudy Gobert: 133.8, 96.7\n",
      "Paul Millsap: 116.3, 100.2\n",
      "Giannis Antetokounmpo: 121.6, 93.9\n",
      "Eric Bledsoe: 115.8, 101.0\n",
      "Danny Green: 119.6, 103.7\n",
      "\n",
      "Bench Lineup: \n",
      "Ed Davis: 129.1, 91.4\n",
      "Daniel Theis: 128.9, 93.0\n",
      "Amile Jefferson: 147.3, 96.0\n",
      "Kalin Lucas: 140.7, 84.8\n",
      "Scott Machado: 165.4, 105.6\n"
     ]
    }
   ],
   "source": [
    "# Determine the optimal starter composition (1 center, 2 forwards, 2 guards) based on their OffR and DefR\n",
    "Budget = 109000000\n",
    "\n",
    "using JuMP, Gurobi\n",
    "\n",
    "m = Model(solver = GurobiSolver(OutputFlag=0))  \n",
    "\n",
    "@variable(m, p[1:300] >= 0, Bin) # Array of binary variables determining the best starting lineup\n",
    "\n",
    "@expression(m, full_lineup, w[5] + w[1]*sum(p[i] * pRost[i, 2] for i in 1:150) + w[2]*sum(p[i] * pRost[i, 2] for i in 151:300)\n",
    "    + w[3]*sum(p[i] * pRost[i, 3] for i in 1:150) + w[4]*sum(p[i] * pRost[i, 3] for i in 151:300))\n",
    "\n",
    "@constraint(m, sum(p[i] for i in 1:30) <= 1) # Must have 1 center\n",
    "@constraint(m, -sum(p[i] for i in 1:30) <= -1)\n",
    "@constraint(m, sum(p[i] for i in 31:90) <= 2) # 2 forwards\n",
    "@constraint(m, -sum(p[i] for i in 31:90) <= -2)\n",
    "@constraint(m, sum(p[i] for i in 91:150) <= 2) # 2 guards\n",
    "@constraint(m, -sum(p[i] for i in 91:150) <= -2)\n",
    "\n",
    "@constraint(m, sum(p[i] for i in 151:180) <= 1) # Must have 1 center\n",
    "@constraint(m, -sum(p[i] for i in 151:180) <= -1) \n",
    "@constraint(m, sum(p[i] for i in 181:240) <= 2) # 2 forwards\n",
    "@constraint(m, -sum(p[i] for i in 181:240) <= -2)\n",
    "@constraint(m, sum(p[i] for i in 241:300) <= 2) # 2 guards\n",
    "@constraint(m, -sum(p[i] for i in 241:300) <= -2)\n",
    "\n",
    "@constraint(m, sum(p[i] for i in 1:300) <= 10) # 10 total players (guarantees no values almost 0.0 or almost 1.0)\n",
    "@constraint(m, -sum(p[i] for i in 1:300) <= -10)\n",
    "\n",
    "@constraint(m, sum(p[i] * pRost[i, 4] for i in 1:300) <= Budget) # Must spend at least the budget amount on players\n",
    "@constraint(m, full_lineup <= 1) # The win rate should be constricted lower than 1\n",
    "\n",
    "@objective(m, Max, full_lineup) # Maximize the lineup's Offensive Rating while minimizing Defensive Rating\n",
    "\n",
    "solve(m)\n",
    "\n",
    "println(getvalue(p[:])) # Players to use indicated by a 1.0\n",
    "\n",
    "println(\"The optimized winning percentage rate is: \", getobjectivevalue(m))\n",
    "\n",
    "println(\"\\nStarter Lineup: \")\n",
    "for i in 1:300 # Display lineup (C, F, F, G, G from top to bottom) and their offensive and defensive rating\n",
    "    if i == 150.0\n",
    "        println(\"\\nBench Lineup: \")\n",
    "    end\n",
    "    if (getvalue(p[i])*pRost[i,2] != 0.0)\n",
    "        print(pRost[i, 1], \": \")\n",
    "        print(pRost[i, 2], \", \")\n",
    "        println(pRost[i, 3])\n",
    "    end\n",
    "end"
   ]
  },
  {
   "cell_type": "markdown",
   "metadata": {},
   "source": [
    "Remind: The results of this model will be given again in Discussion section 4A1 again. [Winning Percentage Model Results](#4A1.-Winning-Percentage-Model-Results)<br> Before running the code there, you need to run the above cells first."
   ]
  },
  {
   "cell_type": "markdown",
   "metadata": {},
   "source": [
    "### 3B. Sweet Spot Model"
   ]
  },
  {
   "cell_type": "code",
   "execution_count": 10,
   "metadata": {},
   "outputs": [],
   "source": [
    "# Construct an array of 30 players and their positions\n",
    "starter_set = Array{Union{Char, String}}(30, 2)\n",
    "n = 1 # Track the starting index of players\n",
    "current = 1 # Current index of the starter_set\n",
    "for j in 1:6 # loop 6 times\n",
    "    for i in n:11:66 # Iterate over player indices\n",
    "       if (typeof(true_set[i, 2]) != Missings.Missing) # Expect typeof String\n",
    "            starter_set[current, 1] = true_set[i, 2] # Add player name to index 1\n",
    "            starter_set[current, 2] = true_set[i, 6][1] # Add the primary position of the player to index 2\n",
    "            current = current + 1 # Increment the current starter_set index\n",
    "        end\n",
    "    end\n",
    "    n = n + 1 # move to the next set of players (c -> f -> f -> g -> g)\n",
    "end"
   ]
  },
  {
   "cell_type": "code",
   "execution_count": 11,
   "metadata": {},
   "outputs": [
    {
     "name": "stdout",
     "output_type": "stream",
     "text": [
      "30×2 Named Array{Union{Char, String},2}\n",
      "A ╲ B │                 1                  2\n",
      "──────┼─────────────────────────────────────\n",
      "1     │  \"Dewayne Dedmon\"                'C'\n",
      "2     │      \"Al Horford\"                'F'\n",
      "3     │   \"Jarrett Allen\"                'C'\n",
      "4     │     \"Cody Zeller\"                'F'\n",
      "5     │     \"Robin Lopez\"                'C'\n",
      "6     │      \"Kevin Love\"                'F'\n",
      "7     │  \"Taurean Prince\"                'F'\n",
      "8     │    \"Jaylen Brown\"                'F'\n",
      "9     │ \"DeMarre Carroll\"                'F'\n",
      "⋮                       ⋮                  ⋮\n",
      "22    │    \"Kemba Walker\"                'G'\n",
      "23    │       \"Kris Dunn\"                'G'\n",
      "24    │     \"Rodney Hood\"                'G'\n",
      "25    │      \"Trae Young\"                'G'\n",
      "26    │    \"Kyrie Irving\"                'G'\n",
      "27    │    \"Allen Crabbe\"                'G'\n",
      "28    │   \"Nicolas Batum\"                'G'\n",
      "29    │     \"Zach LaVine\"                'G'\n",
      "30    │        \"JR Smith\"                'G'\n"
     ]
    }
   ],
   "source": [
    "ss = NamedArray(starter_set)\n",
    "println(ss)"
   ]
  },
  {
   "cell_type": "code",
   "execution_count": 12,
   "metadata": {},
   "outputs": [
    {
     "name": "stdout",
     "output_type": "stream",
     "text": [
      "30-element Named Array{Any,1}\n",
      "A  │ \n",
      "───┼────────────────────\n",
      "1  │  \"Dewayne Dedmon C\"\n",
      "2  │      \"Al Horford F\"\n",
      "3  │   \"Jarrett Allen C\"\n",
      "4  │     \"Cody Zeller F\"\n",
      "5  │     \"Robin Lopez C\"\n",
      "6  │      \"Kevin Love F\"\n",
      "7  │  \"Taurean Prince F\"\n",
      "8  │    \"Jaylen Brown F\"\n",
      "9  │ \"DeMarre Carroll F\"\n",
      "⋮                      ⋮\n",
      "22 │    \"Kemba Walker G\"\n",
      "23 │       \"Kris Dunn G\"\n",
      "24 │     \"Rodney Hood G\"\n",
      "25 │      \"Trae Young G\"\n",
      "26 │    \"Kyrie Irving G\"\n",
      "27 │    \"Allen Crabbe G\"\n",
      "28 │   \"Nicolas Batum G\"\n",
      "29 │     \"Zach LaVine G\"\n",
      "30 │        \"JR Smith G\"\n"
     ]
    }
   ],
   "source": [
    "# Array of strings containing player name and their corresponding, primary, position\n",
    "ps = []\n",
    "\n",
    "for i in 1:30 # for all 30 players\n",
    "   push!(ps, starter_set[i]\" \"starter_set[i+30]) # Add their name and position to the array\n",
    "end\n",
    "\n",
    "println(NamedArray(ps))"
   ]
  },
  {
   "cell_type": "code",
   "execution_count": 13,
   "metadata": {},
   "outputs": [],
   "source": [
    "using Distributions\n",
    "# Function that checks the x and y values of the sweet spot and assigns it to its corresponding zone\n",
    "function SetPartition(temp, i)\n",
    "    if (temp[1] <= 8 && temp[2] >= 32) # Z1 (x -> 0 to 8, y -> 32 to 48)\n",
    "        push!(SS[starter_set[i,1]][1], temp) # Assign coordinates to player's first array of tuples (Zone 1)\n",
    "        \n",
    "    elseif (temp[1] >= 8 && temp[1] <= 16 && temp[2] >= 32) # Z2 (x -> 8 to 16, y -> 32 to 48)\n",
    "        push!(SS[starter_set[i,1]][2], temp) # Assign coordinates to player's second array of tuples (Zone 2)\n",
    "        \n",
    "    elseif (temp[1] >= 16 && temp[2] >= 32) # Z3 (x -> 16 to 24, y -> 32 to 48)\n",
    "        push!(SS[starter_set[i,1]][3], temp) # Assign coordinates to player's third array of tuples (Zone 3)\n",
    "          \n",
    "    elseif (temp[1] < 8 && temp[2] < 32 && temp[2] > 16) # Z4 (x -> 0 to 8, y -> 16 to 32)\n",
    "        push!(SS[starter_set[i,1]][4], temp) # Assign coordinates to player's fourth array of tuples (Zone 4)\n",
    "        \n",
    "    elseif (temp[1] >= 8 && temp[1] <= 16 && temp[2] <= 32 && temp[2] >= 16) # Z5 (x -> 8 to 16, y -> 16 to 32)\n",
    "        push!(SS[starter_set[i,1]][5], temp) # Assign coordinates to player's fifth array of tuples (Zone 5)\n",
    "        \n",
    "    elseif (temp[1] >= 16 && temp[2] <= 32 && temp[2] >= 16) # Z6 (x -> 16 to 24, y -> 16 to 32)\n",
    "        push!(SS[starter_set[i,1]][6], temp) # Assign coordinates to player's sixth array of tuples (Zone 6)\n",
    "        \n",
    "    elseif (temp[1] <= 8 && temp[2] <= 16) # Z7 (x -> 0 to 8, y -> 0 to 16)\n",
    "        push!(SS[starter_set[i,1]][7], temp) # Assign coordinates to player's seventh array of tuples (Zone 7)\n",
    "        \n",
    "    elseif (temp[1] >= 8 && temp[1] <= 16 && temp[2] <= 16) # Z8 (x -> 8 to 16, y -> 0 to 16)\n",
    "        push!(SS[starter_set[i,1]][8], temp) # Assign coordinates to player's eighth array of tuples (Zone 8)\n",
    "        \n",
    "    elseif (temp[1] >= 16 && temp[2] <= 16) # Z9 (x -> 16 to 24, y -> 0 to 16)\n",
    "        push!(SS[starter_set[i,1]][9], temp) # Assign coordinates to player's ninth array of tuples (Zone 9)\n",
    "    end\n",
    "end\n",
    "\n",
    "# Function to generate 2-6 points specific for centers (Z: 1, 4, 7)\n",
    "function CrandomSS(i)\n",
    "    temp = rand(Uniform(1,7), 1, 1)[1], rand(Uniform(1,47), 1, 1)[1] # Generate points in Z1, Z4, or Z7\n",
    "    SetPartition(temp, i) # Assign to the corresponding player's array of sweet spots\n",
    "\n",
    "end\n",
    "\n",
    "# Function to generate 2-6 points specific for forwards (Z: 1, 2, 4, 5, 7, 8)\n",
    "function FrandomSS(i)\n",
    "    temp = rand(Uniform(1,15), 1, 1)[1], rand(Uniform(1,47), 1, 1)[1] # Generate points in Z1, Z2, Z4, Z5, Z7, or Z8\n",
    "    SetPartition(temp, i) # Assign to the corresponding player's array of sweet spots\n",
    "end\n",
    "\n",
    "# Function to generate 2-6 points specific for guards (Z: 2, 3, 5, 6, 8, 9)\n",
    "function GrandomSS(i) \n",
    "    temp = rand(Uniform(8,24), 1, 1)[1], rand(Uniform(1,47), 1, 1)[1] # Generate points in Z2, Z3, Z5, Z6, Z8, or Z9\n",
    "    SetPartition(temp, i) # Assign to the corresponding player's array of sweet spots\n",
    "end\n",
    "\n",
    "# Create a Dictionary mapping a player's name to an Array containing 9 arrays filled with a players \"sweet spots\"\n",
    "SS = Dict{String, Array{Array{Tuple{Float64, Float64}}}}()\n",
    "for i in 1:30\n",
    "       SS[starter_set[i, 1]] = [] # Map each name to an empty array\n",
    "end\n",
    "for i in 1:30\n",
    "   for j in 1:9\n",
    "         # Fill each players array with 9 empty arrays (each corresponds to a zone on the court)\n",
    "         push!(SS[starter_set[i,1]], []) \n",
    "    end\n",
    "end\n",
    "\n",
    "for i in 1:6 # Iterate over centers\n",
    "    for j in 1:rand(6:10) # Assign 2 - 6 specific points\n",
    "        CrandomSS(i)\n",
    "    end\n",
    "end\n",
    "for i in 7:18 # Iterate over forwards\n",
    "    for j in 1:rand(4:8) # Assign 2 - 6 specific points\n",
    "        FrandomSS(i)\n",
    "    end\n",
    "end\n",
    "for i in 19:30 # Iterate over guards\n",
    "    for j in 1:rand(4:8) # Assign 2 - 6 specific points\n",
    "        GrandomSS(i)\n",
    "    end\n",
    "end\n",
    "\n",
    "# After assigning 1 - 3 points based on player position, assign 1 - 3 randomly over the entire court\n",
    "for i in 1:30 \n",
    "    for j in 1:rand(2:6) # Assign 1 - 3 random points\n",
    "        temp = rand(Uniform(1,24), 1, 1)[1], rand(Uniform(1,47), 1, 1)[1] # Z: 1, 2, 3, 4, 5, 6, 7, 8, 9\n",
    "        SetPartition(temp, i) # Assign to zones corresponding to the coordinate values\n",
    "    end\n",
    "end"
   ]
  },
  {
   "cell_type": "markdown",
   "metadata": {},
   "source": [
    "Due to the fact that we did not readily have access to a data set containing where player's score their points, we had to generate our own values. The data structure we used was a dictionary, containing an array of arrays of tuples, specifically, 1 array per player name that holds 9 arrays (corresponding to the 9 zones on the court) with each of these arrays containing a random number of x, y coordinates corresponding to a player's \"sweet spots\". Based on a player's primary position, a random number of sweet spots were generated within specific zones (*centers:* **zones 1, 4, and 7**; *forwards:* **zones 1, 2, 4, 5, 7, and 8**; and *guards:* **zones 2, 3, 5, 6, 8, and 9**) and then a random amount from 2 to 6 were assigned across **all zones** for each player. The majority of the areas were players can score were assumed based on their position, and doing so places added importance on teams with balanced lineups (standard being 1 center, 2 forwards, and 2 guards)."
   ]
  },
  {
   "cell_type": "code",
   "execution_count": 14,
   "metadata": {},
   "outputs": [
    {
     "name": "stdout",
     "output_type": "stream",
     "text": [
      "Robin Lopez\n",
      "Tuple{Float64,Float64}[(5.24903, 44.4056), (5.68047, 38.6716), (6.58343, 38.6246)] Zone 1\n",
      "Tuple{Float64,Float64}[(14.4174, 45.2416)] Zone 2\n",
      "Tuple{Float64,Float64}[] Zone 3\n",
      "Tuple{Float64,Float64}[(6.24153, 28.4037), (1.89871, 25.3098), (5.0559, 16.7952), (4.66271, 31.5952)] Zone 4\n",
      "Tuple{Float64,Float64}[(13.467, 23.292)] Zone 5\n",
      "Tuple{Float64,Float64}[] Zone 6\n",
      "Tuple{Float64,Float64}[(3.47375, 10.8557), (2.35911, 15.3889), (5.89666, 1.68929)] Zone 7\n",
      "Tuple{Float64,Float64}[] Zone 8\n",
      "Tuple{Float64,Float64}[] Zone 9\n"
     ]
    }
   ],
   "source": [
    "hold = rand(1:30)\n",
    "println(starter_set[hold, 1]) # Display player name\n",
    "for n in 1:9\n",
    "    println(SS[starter_set[hold, 1]][n], \" Zone \", n) # Display player sweetspots\n",
    "end"
   ]
  },
  {
   "cell_type": "code",
   "execution_count": 15,
   "metadata": {},
   "outputs": [
    {
     "data": {
      "text/plain": [
       "142506-element Array{Array{Any,1},1}:\n",
       " Any[\"Dewayne Dedmon C\", \"Al Horford F\", \"Jarrett Allen C\", \"Cody Zeller F\", \"Robin Lopez C\"]            \n",
       " Any[\"Dewayne Dedmon C\", \"Al Horford F\", \"Jarrett Allen C\", \"Cody Zeller F\", \"Kevin Love F\"]             \n",
       " Any[\"Dewayne Dedmon C\", \"Al Horford F\", \"Jarrett Allen C\", \"Cody Zeller F\", \"Taurean Prince F\"]         \n",
       " Any[\"Dewayne Dedmon C\", \"Al Horford F\", \"Jarrett Allen C\", \"Cody Zeller F\", \"Jaylen Brown F\"]           \n",
       " Any[\"Dewayne Dedmon C\", \"Al Horford F\", \"Jarrett Allen C\", \"Cody Zeller F\", \"DeMarre Carroll F\"]        \n",
       " Any[\"Dewayne Dedmon C\", \"Al Horford F\", \"Jarrett Allen C\", \"Cody Zeller F\", \"Marvin Williams F\"]        \n",
       " Any[\"Dewayne Dedmon C\", \"Al Horford F\", \"Jarrett Allen C\", \"Cody Zeller F\", \"Lauri Markkanen F\"]        \n",
       " Any[\"Dewayne Dedmon C\", \"Al Horford F\", \"Jarrett Allen C\", \"Cody Zeller F\", \"Tristan Thompson F\"]       \n",
       " Any[\"Dewayne Dedmon C\", \"Al Horford F\", \"Jarrett Allen C\", \"Cody Zeller F\", \"John Collins F\"]           \n",
       " Any[\"Dewayne Dedmon C\", \"Al Horford F\", \"Jarrett Allen C\", \"Cody Zeller F\", \"Gordon Hayward F\"]         \n",
       " Any[\"Dewayne Dedmon C\", \"Al Horford F\", \"Jarrett Allen C\", \"Cody Zeller F\", \"Rondae Hollis-Jefferson F\"]\n",
       " Any[\"Dewayne Dedmon C\", \"Al Horford F\", \"Jarrett Allen C\", \"Cody Zeller F\", \"Jeremy Lamb G\"]            \n",
       " Any[\"Dewayne Dedmon C\", \"Al Horford F\", \"Jarrett Allen C\", \"Cody Zeller F\", \"Jabari Parker F\"]          \n",
       " ⋮                                                                                                       \n",
       " Any[\"Rodney Hood G\", \"Trae Young G\", \"Nicolas Batum G\", \"Zach LaVine G\", \"JR Smith G\"]                  \n",
       " Any[\"Rodney Hood G\", \"Kyrie Irving G\", \"Allen Crabbe G\", \"Nicolas Batum G\", \"Zach LaVine G\"]            \n",
       " Any[\"Rodney Hood G\", \"Kyrie Irving G\", \"Allen Crabbe G\", \"Nicolas Batum G\", \"JR Smith G\"]               \n",
       " Any[\"Rodney Hood G\", \"Kyrie Irving G\", \"Allen Crabbe G\", \"Zach LaVine G\", \"JR Smith G\"]                 \n",
       " Any[\"Rodney Hood G\", \"Kyrie Irving G\", \"Nicolas Batum G\", \"Zach LaVine G\", \"JR Smith G\"]                \n",
       " Any[\"Rodney Hood G\", \"Allen Crabbe G\", \"Nicolas Batum G\", \"Zach LaVine G\", \"JR Smith G\"]                \n",
       " Any[\"Trae Young G\", \"Kyrie Irving G\", \"Allen Crabbe G\", \"Nicolas Batum G\", \"Zach LaVine G\"]             \n",
       " Any[\"Trae Young G\", \"Kyrie Irving G\", \"Allen Crabbe G\", \"Nicolas Batum G\", \"JR Smith G\"]                \n",
       " Any[\"Trae Young G\", \"Kyrie Irving G\", \"Allen Crabbe G\", \"Zach LaVine G\", \"JR Smith G\"]                  \n",
       " Any[\"Trae Young G\", \"Kyrie Irving G\", \"Nicolas Batum G\", \"Zach LaVine G\", \"JR Smith G\"]                 \n",
       " Any[\"Trae Young G\", \"Allen Crabbe G\", \"Nicolas Batum G\", \"Zach LaVine G\", \"JR Smith G\"]                 \n",
       " Any[\"Kyrie Irving G\", \"Allen Crabbe G\", \"Nicolas Batum G\", \"Zach LaVine G\", \"JR Smith G\"]               "
      ]
     },
     "execution_count": 15,
     "metadata": {},
     "output_type": "execute_result"
    }
   ],
   "source": [
    "using Combinatorics\n",
    "\n",
    "# Generate all the possible combinations of the 30 players and teams of 5\n",
    "coll = collect(combinations(ps, 5))"
   ]
  },
  {
   "cell_type": "code",
   "execution_count": 17,
   "metadata": {},
   "outputs": [
    {
     "name": "stdout",
     "output_type": "stream",
     "text": [
      "The number of combinations with 1 center, 2 forwards, and 2 guards is: 21294\n"
     ]
    }
   ],
   "source": [
    "cl = length(coll) # Current size of the combinations array\n",
    "center = 0 # Track the number of centers\n",
    "forward = 0 # Track the number of forwards\n",
    "guard = 0 # Track the number of guards\n",
    "i = 1 # Current index in the array\n",
    "\n",
    "#Iterate over the entire combinations array and remove teams that do not satisfy composition of 1 center, 2 forwards, 2 guards\n",
    "while i <= cl # As the size of the array will be changed, i and cl must be changed dynamically\n",
    "    for j in 1:5 # For all the players in a team\n",
    "        nl = length(coll[i][j]) # Get the length of the players name (their position is at the last index)\n",
    "        \n",
    "        if coll[i][j][nl] == 'C' # If player is a center\n",
    "            center = center + 1 # Increment the amount of centers\n",
    "            if center > 1 # There should only be 1 center\n",
    "                deleteat!(coll, i) # multiple centers, remove team composition\n",
    "                cl = length(coll) # Update the length of the combinations array\n",
    "                i = i - 1 # Set the current index back to make up for removed element\n",
    "                break\n",
    "            end\n",
    "            \n",
    "        elseif coll[i][j][nl] == 'F' # If player is a forward\n",
    "            forward = forward + 1 # Increment the amount of forwards\n",
    "            if forward > 2 # There should only be 2 forwards\n",
    "                deleteat!(coll, i) # More than 2 forwards, remove team composition\n",
    "                cl = length(coll) # Update the length of the combinations array\n",
    "                i = i - 1 # Set the current index back to make up for removed element\n",
    "                break\n",
    "            end\n",
    "            \n",
    "        elseif coll[i][j][nl] == 'G' # If player is a guard\n",
    "            guard = guard + 1 # Increment the amount of guards\n",
    "            if guard > 2 # There should only be 2 guards\n",
    "                deleteat!(coll, i) # More than 2 guards, remove team composition\n",
    "                cl = length(coll) # Update the length of the combinations array\n",
    "                i = i - 1 # Set the current index back to make up for removed element\n",
    "                break\n",
    "            end\n",
    "        end\n",
    "    end\n",
    "    # Reset tracking values\n",
    "    center = 0 # reset center count\n",
    "    forward = 0 # reset forward count\n",
    "    guard = 0 # reset guard count\n",
    "    i = i + 1\n",
    "end\n",
    "\n",
    "println(\"The number of combinations with 1 center, 2 forwards, and 2 guards is: \", length(coll)) \n",
    "# The number of combinations with 1 center,2 forwards, and 2 guards"
   ]
  },
  {
   "cell_type": "markdown",
   "metadata": {},
   "source": [
    "Having found over 140,000 combinations for team lineups, we decided to pre-dispose of lineups without a proper lineup of positions (i.e. a center, 2 forwards, and 2 guards), this gave us a much smaller set of data to work with that prioritizes *balanced* team compositions."
   ]
  },
  {
   "cell_type": "code",
   "execution_count": 18,
   "metadata": {},
   "outputs": [
    {
     "name": "stdout",
     "output_type": "stream",
     "text": [
      "[4, 16, 4, 4, 4, 4, 1, 4, 4, 48]\n"
     ]
    }
   ],
   "source": [
    "# Contain the scores of the sweet spots for the zones of each team\n",
    "lengths = Array{Int64}(21294, 10)\n",
    "\n",
    "for i in 1:21294 # Loop over all possible team combinations\n",
    "    on = length(coll[i][1]) # Player one's name\n",
    "    tw = length(coll[i][2]) # Player two's name\n",
    "    th = length(coll[i][3]) # Player three's name\n",
    "    fo = length(coll[i][4]) # Player four's name\n",
    "    fi = length(coll[i][5]) # Player five's name\n",
    "    \n",
    "    # Store the amount of sweet spots the entire team possesses\n",
    "    lengths[i, 10] = sum(length(SS[coll[i][1][1:on-2]][n]) + length(SS[coll[i][2][1:tw-2]][n]) +\n",
    "                         length(SS[coll[i][3][1:th-2]][n]) + length(SS[coll[i][4][1:fo-2]][n]) +\n",
    "                         length(SS[coll[i][5][1:fi-2]][n]) for n in 1:9)\n",
    "    \n",
    "    for j in 1:9 # Iterate over the teams zones\n",
    "        \n",
    "        # Store the number of sweet spots each team has in each zone (1:9)\n",
    "        # Conforms to the math model, taking the sum of the number of elements in a zone, minus the \n",
    "        # (total sweet spots/9) squared\n",
    "        # This ensures that teams are penalized for not possessing a balanced team composition\n",
    "        # Compensates for the inability to do quadratics linearly in JuMP\n",
    "        lengths[i, j] = ((length(SS[coll[i][1][1:on-2]][j]) + length(SS[coll[i][2][1:tw-2]][j]) + \n",
    "                          length(SS[coll[i][3][1:th-2]][j]) + length(SS[coll[i][4][1:fo-2]][j]) + \n",
    "                          length(SS[coll[i][5][1:fi-2]][j])) - div(lengths[i, 10], 9))^2\n",
    "    end\n",
    "end\n",
    "\n",
    "println(lengths[rand(1:21294), :]) # Randomly display a team"
   ]
  },
  {
   "cell_type": "markdown",
   "metadata": {},
   "source": [
    "A large limitation with the project is determining the scores of the zones of each team. JuMP did not allow for the use of absolute values, and attempts to use quadratics in the function were not allowed. To solve this, we processed the scores beforehand, finding the number of sweet spots a team has in each zone and then subtracting a value based on the total number of total sweet spots and squaring the result. This meant that a team would be penalized for having too little or too many sweet spots in a zone (**the optimal is when every zone has an equal number of points on which players are proficient**). "
   ]
  },
  {
   "cell_type": "code",
   "execution_count": 19,
   "metadata": {},
   "outputs": [
    {
     "name": "stdout",
     "output_type": "stream",
     "text": [
      "Academic license - for non-commercial use only\r\n",
      "3100\n",
      "[1, 0, 0, 0, 0, 1, 0, 0, 0, 54]\n"
     ]
    }
   ],
   "source": [
    "using JuMP, Gurobi\n",
    "ateam = 0 # Holds the index of the optimal team\n",
    "\n",
    "m = Model(solver = GurobiSolver(OutputFlag=0))\n",
    "\n",
    "@variable(m, t[1:21294] >= 0, Bin) # Binary value, specifies the most balanced team with a 1\n",
    "\n",
    "@constraint(m, sum(t[i] for i in 1:21294) <= 1) # Only 1 team allowed\n",
    "@constraint(m, -sum(t[i] for i in 1:21294) <= -1) # Not specifying this results in no teams\n",
    "\n",
    "# Get the scores of all 9 zones for each team, the team with the lowest score has the most optimal lineup\n",
    "@objective(m, Max, lengths[i,10] - (t[i]*sum((lengths[i, n])  for i in 1:21294, n in 1:9)))\n",
    "\n",
    "solve(m)\n",
    "\n",
    "for i in 1:21294\n",
    "    if getvalue(t[i]) == 1.0 # Only 1 team should be active\n",
    "        println(i) # Index of the team\n",
    "        ateam = i # Store for futre printout\n",
    "    end\n",
    "end\n",
    "\n",
    "println(lengths[ateam, 1:10]) # Print matrix of team scores, the last index element corresponds to the number of sweet spots"
   ]
  },
  {
   "cell_type": "markdown",
   "metadata": {},
   "source": [
    "Remind: The results of the second model is in 4B1. [Sweet Spot Model Results](#4B1.-Sweet-Spot-Model-Results)<br> Before running code there, you should run the above cells first. Also, since the data we used are generated random number, the solution output will change but they are always the optimal case with that dataset."
   ]
  },
  {
   "cell_type": "markdown",
   "metadata": {},
   "source": [
    "## 4. Results and discussion ##\n",
    "\n",
    "Here, you display and discuss the results. Show figures, plots, images, trade-off curves, or whatever else you can think of to best illustrate your results. The discussion should explain what the results mean, and how to interpret them. You should also explain the limitations of your approach/model and how sensitive your results are to the assumptions you made.\n",
    "\n",
    " Use plots (see `PyPlot` examples from class), or you can display results in a table like this:\n",
    "\n",
    "| Tables        | Are          | Cool  |\n",
    "| ------------- |-------------:| -----:|\n",
    "| col 3 is      |right-aligned |\\$1600 |\n",
    "|  colons       | align columns|  \\$12 |\n",
    "| zebra stripes |    are neat  |   \\$1 |"
   ]
  },
  {
   "cell_type": "markdown",
   "metadata": {},
   "source": [
    "### 4A1. Winning Percentage Model Results"
   ]
  },
  {
   "cell_type": "code",
   "execution_count": null,
   "metadata": {},
   "outputs": [],
   "source": []
  },
  {
   "cell_type": "code",
   "execution_count": null,
   "metadata": {},
   "outputs": [],
   "source": []
  },
  {
   "cell_type": "markdown",
   "metadata": {},
   "source": [
    "### 4A2. Winning Percentage Model Discussion"
   ]
  },
  {
   "cell_type": "markdown",
   "metadata": {},
   "source": [
    "### 4B1. Sweet Spot Model Results"
   ]
  },
  {
   "cell_type": "code",
   "execution_count": 20,
   "metadata": {},
   "outputs": [
    {
     "name": "stdout",
     "output_type": "stream",
     "text": [
      "Dewayne Dedmon -------- \n",
      "Tuple{Float64,Float64}[(2.77119, 35.5305), (5.49276, 35.8528), (4.00659, 39.0075), (5.43092, 40.5604), (5.34205, 40.2378), (6.84782, 32.7078)] : 1\n",
      "Tuple{Float64,Float64}[(11.0468, 34.2435)] : 2\n",
      "Tuple{Float64,Float64}[(16.9158, 44.3886)] : 3\n",
      "Tuple{Float64,Float64}[(3.33389, 25.1379), (3.26244, 20.4896), (2.91301, 21.3677), (5.86409, 31.3955)] : 4\n",
      "Tuple{Float64,Float64}[] : 5\n",
      "Tuple{Float64,Float64}[] : 6\n",
      "Tuple{Float64,Float64}[(2.82288, 7.98761)] : 7\n",
      "Tuple{Float64,Float64}[] : 8\n",
      "Tuple{Float64,Float64}[(19.6257, 8.62409), (21.5858, 1.58018)] : 9\n",
      "Taurean Prince -------- \n",
      "Tuple{Float64,Float64}[(4.62416, 34.6234)] : 1\n",
      "Tuple{Float64,Float64}[] : 2\n",
      "Tuple{Float64,Float64}[] : 3\n",
      "Tuple{Float64,Float64}[] : 4\n",
      "Tuple{Float64,Float64}[(12.4155, 19.9582), (8.70074, 25.4308), (10.4099, 27.4545)] : 5\n",
      "Tuple{Float64,Float64}[(20.6148, 20.4848), (19.1988, 31.523)] : 6\n",
      "Tuple{Float64,Float64}[(6.77926, 10.1634), (5.19398, 8.56971)] : 7\n",
      "Tuple{Float64,Float64}[] : 8\n",
      "Tuple{Float64,Float64}[] : 9\n",
      "Lauri Markkanen -------- \n",
      "Tuple{Float64,Float64}[] : 1\n",
      "Tuple{Float64,Float64}[] : 2\n",
      "Tuple{Float64,Float64}[(19.2198, 35.6667)] : 3\n",
      "Tuple{Float64,Float64}[(1.13498, 28.9606)] : 4\n",
      "Tuple{Float64,Float64}[(13.4783, 28.9088)] : 5\n",
      "Tuple{Float64,Float64}[] : 6\n",
      "Tuple{Float64,Float64}[(7.12159, 2.36783), (5.43343, 2.96688)] : 7\n",
      "Tuple{Float64,Float64}[(9.59661, 1.72145), (10.4202, 8.6036), (14.377, 3.97183), (13.0516, 10.4429)] : 8\n",
      "Tuple{Float64,Float64}[] : 9\n",
      "Rodney Hood -------- \n",
      "Tuple{Float64,Float64}[] : 1\n",
      "Tuple{Float64,Float64}[(10.2612, 38.8272), (9.15983, 33.1671)] : 2\n",
      "Tuple{Float64,Float64}[(20.9861, 45.388), (18.3785, 42.2578)] : 3\n",
      "Tuple{Float64,Float64}[] : 4\n",
      "Tuple{Float64,Float64}[(15.5417, 28.4034)] : 5\n",
      "Tuple{Float64,Float64}[(23.7903, 23.2215), (17.5206, 29.0715), (22.9543, 31.2796)] : 6\n",
      "Tuple{Float64,Float64}[] : 7\n",
      "Tuple{Float64,Float64}[] : 8\n",
      "Tuple{Float64,Float64}[(17.5852, 11.3433), (17.9286, 10.4835)] : 9\n",
      "Trae Young -------- \n",
      "Tuple{Float64,Float64}[] : 1\n",
      "Tuple{Float64,Float64}[(8.78775, 35.8925), (8.1804, 33.2636), (15.0965, 43.4386)] : 2\n",
      "Tuple{Float64,Float64}[(23.4346, 39.4015), (21.682, 43.3302)] : 3\n",
      "Tuple{Float64,Float64}[(3.42915, 26.6312)] : 4\n",
      "Tuple{Float64,Float64}[(15.537, 25.2141)] : 5\n",
      "Tuple{Float64,Float64}[] : 6\n",
      "Tuple{Float64,Float64}[(1.6618, 15.3598)] : 7\n",
      "Tuple{Float64,Float64}[(15.2707, 14.9536), (13.7698, 7.76814)] : 8\n",
      "Tuple{Float64,Float64}[(22.538, 13.0156), (22.5358, 15.0911)] : 9\n"
     ]
    }
   ],
   "source": [
    "for j in 1:5 # Iterate over the team's players\n",
    "    println(coll[ateam][j][1:end-2], \" -------- \") # Print out the current indexed player's name\n",
    "    for i in 1:9 # Iterate over the teams zones\n",
    "        println(SS[coll[ateam][j][1:end-2]][i], \" : \", i) # Print out the player's sweet spots by which zone they are in\n",
    "    end\n",
    "end"
   ]
  },
  {
   "cell_type": "code",
   "execution_count": 30,
   "metadata": {},
   "outputs": [
    {
     "data": {
      "image/png": "[encoded data removed]",
      "text/plain": [
       "PyPlot.Figure(PyObject <Figure size 640x480 with 1 Axes>)"
      ]
     },
     "metadata": {},
     "output_type": "display_data"
    },
    {
     "name": "stdout",
     "output_type": "stream",
     "text": [
      "Optimized Team Sweet Spots: 54\n"
     ]
    }
   ],
   "source": [
    "using PyPlot\n",
    "for i in 1:5\n",
    "    for j in 1:9\n",
    "        al = length(SS[coll[ateam][i][1:end-2]][j]) # Get the number of points in a zone\n",
    "        if al > 0\n",
    "            for n in 1:al\n",
    "                # Plot the player sweet spots\n",
    "                scatter(SS[coll[ateam][i][1:end-2]][j][n][1], SS[coll[ateam][i][1:end-2]][j][n][2]) \n",
    "            end\n",
    "        end\n",
    "    end\n",
    "end\n",
    "\n",
    "# Create the partitions\n",
    "plot([8, 8],   [0, 50])\n",
    "plot([16, 16], [0, 50])\n",
    "\n",
    "plot([0, 24], [16, 16])\n",
    "plot([0, 24], [32, 32])\n",
    "title(\"Optimized Sweet Spots Distribution\")\n",
    "xlabel(\"length of half court in ft\")\n",
    "ylabel(\"width of hald court in ft\")\n",
    "\n",
    "# Number of sweet spots the optimal team has\n",
    "println(\"Optimized Team Sweet Spots: \", lengths[ateam, 10])"
   ]
  },
  {
   "cell_type": "markdown",
   "metadata": {},
   "source": [
    "### 4B2. Sweet Spot Model Discussion"
   ]
  },
  {
   "cell_type": "code",
   "execution_count": null,
   "metadata": {},
   "outputs": [],
   "source": []
  },
  {
   "cell_type": "markdown",
   "metadata": {},
   "source": [
    "## 5. Conclusion ##\n",
    "\n",
    "This report offers two separate models one could take to optimize an NBA basketball roster. In the first model, through Linear Programming with binary variable for choosing players, and using a player's efficiency ratings, salary, and salary caps, we looked at how one could maximize a team's winning percentage. In the second model, we found how one could maximize a lineup sweet spot by using tradeoffs between the sweet spot distribution and the total sweet lineup. However, we could always improve our results, whether by using real data (for x, y coordinates) or including other constraints, such as injuries or existing team chemistry."
   ]
  }
 ],
 "metadata": {
  "kernelspec": {
   "display_name": "Julia 0.6.4",
   "language": "julia",
   "name": "julia-0.6"
  },
  "language_info": {
   "file_extension": ".jl",
   "mimetype": "application/julia",
   "name": "julia",
   "version": "0.6.4"
  }
 },
 "nbformat": 4,
 "nbformat_minor": 2
}
