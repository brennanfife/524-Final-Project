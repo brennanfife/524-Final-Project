{
 "cells": [
  {
   "cell_type": "markdown",
   "metadata": {},
   "source": [
    "### CS/ECE/ISyE 524 &mdash; Introduction to Optimization &mdash; Summer 2019 ###\n",
    "\n",
    "# Fantasy NBA Roster #\n",
    "\n",
    "#### KangQi Fu (kfu9@wisc.edu), Nathan Logan (nlogan2@wisc.edu), Brennan Fife (bfife@wisc.edu)\n",
    "\n",
    "### Table of Contents\n",
    "\n",
    "1. [Introduction](#1.-Introduction)\n",
    "1. [Mathematical Model](#2.-Mathematical-model)<br>\n",
    "    2A. [Winning Percentage Model](#2A.-Winning-Percentage-Model)<br>\n",
    "    2B. [Sweet Spot Model](#2B.-Sweet-Spot-Model)\n",
    "1. [Solution](#3.-Solution)\n",
    "1. [Results and Discussion](#4.-Results-and-discussion)\n",
    "1. [Optional Subsection](#4.A.-Feel-free-to-add-subsections)\n",
    "1. [Conclusion](#5.-Conclusion)\n",
    "1. [Reference](#6.-Reference)"
   ]
  },
  {
   "cell_type": "markdown",
   "metadata": {},
   "source": [
    "## 1. Introduction ##\n",
    "\n",
    "The first few sentences should give a quick overview of the entire project. Then, elaborate with a description of the problem that will be solved, a brief history (with [citations](https://en.wikipedia.org/wiki/Citation)) of how the problem came about, why it's important/interesting, and any other interesting facts you'd like to talk about. You should address and explain where the problem data is coming from (research? the internet? synthetically generated?) Also give an outline of the rest of the report.\n",
    "\n",
    "This section should be 300-600 words long, and **should be accessible to a general audience** (don't assume your reader has taken the class!). Feel free to include images if you think it'll be helpful:\n",
    "![fixit flowchart][flow]\n",
    "\n",
    "For more help on using Markdown, see [this reference](https://github.com/adam-p/markdown-here/wiki/Markdown-Cheatsheet).\n",
    "\n",
    "[flow]: https://www.sportsfeelgoodstories.com/wp-content/uploads/2019/01/nbacourt.jpg"
   ]
  },
  {
   "cell_type": "markdown",
   "metadata": {},
   "source": [
    "## 2. Mathematical model ##\n",
    "\n",
    "There are two different models for finding the best rosters in NBA league. The first one is based on maximizing the winning percentage of the fantasy team. The second one is based on maximizing the sweet spot of the fantasy team.\n",
    "\n",
    "### 2A. Winning Percentage Model\n",
    "In this model, we are using real dataset to find the fantasy NBA roster based on optimizing the winning percentage.\n",
    "#### Assumptions\n",
    "1. Each team consists of 5 starters and 5 benchers.\n",
    "2. Each position (SG, PG, SF, PF, C) has two players, one for starter, and one for player.\n",
    "3. The contribution of starters and benchers to a whole team is weighted.\n",
    "4. All the data (salary of each player, salary cap of each team, offensive and deffensive rating, PERs, positions, ...) are from 2018-2019 season.\n",
    "\n",
    "#### Type of the model: Mixed Integer Linear Program (MILP)\n",
    "\n",
    "#### Variables\n",
    "| Variables        | Descriptions            |Type   |\n",
    "|------------------|:------------------------|------:|\n",
    "| $p_i$            |player $i$               |binary |\n",
    "| $ofr_i$          |Off rating of player $i$ |Real   |\n",
    "| $dfr_i$          |Def rating of player $i$ |Real   |\n",
    "| $s_i$            |Salary of player $i$     |Real   |\n",
    "| $SC$             |Salary Cap               |Real   |\n",
    "| $w_i$            |coefficients($i$=1:5)    |Real   |\n",
    "\n",
    "#### Objective function\n",
    "$$\\begin{aligned}\n",
    "  w_0 + w_1\\sum_{i=1}^{5n}(p_i\\times ofr_i)+\n",
    "  w_2\\sum_{i=5n+1}^{10n}(p_i\\times ofr_i)+\n",
    "  w_3\\sum_{i=1}^{5n}(p_i\\times dfr_i)+\n",
    "  w_2\\sum_{i=5n+1}^{10n}(p_i\\times dfr_i)\n",
    "  \\end{aligned}$$\n",
    "\n",
    "#### Coefficients\n",
    "The way we find coefficient is by using equation: $w = (A^{T}A)^{-1}A^{T}y$, where A is a 30 by 5 matrix stores 5 types of dataset of all the 30 NBA teams.\n",
    "\n",
    "####  Constraints\n",
    "$$\\begin{aligned}\n",
    "  &\\ p_i \\in \\{0,1\\}\\\\\n",
    "  &\\ \\sum_{i=1}^{10n}s_i\\times p_i \\leq SC\\\\\n",
    "  &\\ SC = 109,000,000\\\\\n",
    "  &\\ \\sum_{i=(k-1)n}^{kn}p_i = 1(\\text{where k=1:10})\n",
    "  \\end{aligned}$$\n",
    "\n",
    "#### Entire Math Model in standard form\n",
    "$$\\begin{aligned}\n",
    "\\underset{i}{\\max} \\ & w_0 + w_1\\sum_{i=1}^{5n}(p_i\\times ofr_i)+\n",
    "  w_2\\sum_{i=5n+1}^{10n}(p_i\\times ofr_i)+\n",
    "  w_3\\sum_{i=1}^{5n}(p_i\\times dfr_i)+\n",
    "  w_4\\sum_{i=5n+1}^{10n}(p_i\\times dfr_i) \\\\\n",
    "\\text{s.t.} \\ & \\sum_{i=1}^{10n}s_i\\times p_i \\leq SC&\\\\\n",
    "& \\sum_{i=(k-1)n}^{kn}p_i = 1(\\text{where k=1:10}) &\\\\\n",
    "& SC = 109,000,000 & \\\\\n",
    "& p_i \\in \\{0,1\\}\n",
    "\\end{aligned}$$\n",
    "\n",
    "### 2B. Sweet Spot Model\n",
    "“The best defence is a good offense”<br>\n",
    "This model chooses player based on the trade off of sweet spot distribution and the total amount of sweet of a line up.\n",
    "\n",
    "#### Explanation\n",
    "TODO: Add a plot to demonstrate our idea.\n",
    "\n",
    "#### Assumptions\n",
    "1. Each team only has 5 players\n",
    "2. There are two guards, two forwards, and one center in each team.\n",
    "3. The offensive area is 48 by 24 (ft), since we only focus on the normal shooting area.\n",
    "4. Dataset ((x, y) coordinates of sweet spots a player has) are generated based on their position.\n",
    "5. We totally have thirty players and we pick up 5 players and test all 142506 combinations\n",
    "\n",
    "#### Type of the model: (I DONOT KNOW)\n",
    "\n",
    "#### Variables\n",
    "| Variables        | Descriptions                                               |Type   |\n",
    "|------------------|:-----------------------------------------------------------|------:|\n",
    "| $i$              |team $i$ with 5 players                                     |array  |\n",
    "| $p_ij$           |an array stores # sweet spots in each partitions of team $i$|array  |\n",
    "| $\\lambda$        |trade off parameter                                         |real   |\n",
    "| $P_i$            |total number of sweet spots that team $i$ has               |real   |\n",
    "| $n$              |number of partitions of half court                          |real   |\n",
    "\n",
    "\n",
    "#### Constraints \n",
    "TODO: Revise the constrains of positions\n",
    "$$\\begin{aligned}\n",
    "  &\\ p_i \\in \\{0,1\\}\\\\\n",
    "  &\\ \\sum_{j=1}^{n}p_{ij} = P_i\\\\\n",
    "  &\\ \\sum_{i=(k-1)n}^{kn}p_i = 1(\\text{where k=1:10})\\\\\n",
    "  &\\ \\lambda\\leq1\n",
    "  \\end{aligned}$$\n",
    "\n",
    "#### Objective function\n",
    "$$\\begin{aligned}\n",
    "  \\lambda P_i + (1 - \\lambda)\\sum_{j=1}^{n}(p_{ij} - \\dfrac{P_i}{n})^{2}\n",
    "  \\end{aligned}$$\n",
    "\n",
    "#### Entire Math Model in standard form\n",
    "$$\\begin{aligned}\n",
    "\\underset{i}{\\max} \\ & \\lambda P_i + (1 - \\lambda)\\sum_{j=1}^{n}(p_{ij} \n",
    "- \\dfrac{P_i}{n})^{2}\\\\\n",
    "\\text{s.t.} \\ &\\ \\sum_{j=1}^{n}p_{ij} = P_i\\\\\n",
    "& \\sum_{i=(k-1)n}^{kn}p_i = 1(\\text{where k=1:10}) &\\\\\n",
    "& p_i \\in \\{0,1\\}\n",
    "\\end{aligned}$$"
   ]
  },
  {
   "cell_type": "markdown",
   "metadata": {},
   "source": [
    "## 3. Solution ##\n",
    "\n",
    "Here, you should code up your model in Julia + JuMP and solve it. Your code should be clean, easy to read, well annotated and commented, and it should compile! You are not allowed to use other programming languages or DCP packages such as `convex.jl`. **I will be running your code**. I suggest having multiple code blocks separated by text blocks that explain the various parts of your solution. You may also solve several versions of your problem with different models/assumptions.\n",
    "\n",
    "It's fine to call external packages such as `Gurobi`, but try to minimize the use of exotic libraries."
   ]
  },
  {
   "cell_type": "code",
   "execution_count": 1,
   "metadata": {},
   "outputs": [
    {
     "name": "stdout",
     "output_type": "stream",
     "text": [
      "The total number of horses is: 10.0\n",
      "The total number of donkeys is: 0.0\n",
      "The total number of goats is: 0.0\n"
     ]
    }
   ],
   "source": [
    "using JuMP, Clp\n",
    "\n",
    "m = Model(solver = ClpSolver())\n",
    "\n",
    "things = [:horses, :donkeys, :goats]  # these are the things\n",
    "@variable(m, x[things] >= 0)          # the quantities of each of the things (can't be negative)\n",
    "@constraint(m, sum(x) <= 10)          # we can't have any more than 10 things total\n",
    "@objective(m, Max, x[:horses])        # we want to maximize the number of horses\n",
    "solve(m)\n",
    "\n",
    "for i in things\n",
    "    println(\"The total number of \", i, \" is: \", getvalue(x[i]))     # print result\n",
    "end"
   ]
  },
  {
   "cell_type": "markdown",
   "metadata": {},
   "source": [
    "## 4. Results and discussion ##\n",
    "\n",
    "Here, you display and discuss the results. Show figures, plots, images, trade-off curves, or whatever else you can think of to best illustrate your results. The discussion should explain what the results mean, and how to interpret them. You should also explain the limitations of your approach/model and how sensitive your results are to the assumptions you made.\n",
    "\n",
    " Use plots (see `PyPlot` examples from class), or you can display results in a table like this:\n",
    "\n",
    "| Tables        | Are          | Cool  |\n",
    "| ------------- |:-------------| -----:|\n",
    "| col 3 is      |right-aligned |\\$1600 |\n",
    "|  colons       | align columns|  \\$12 |\n",
    "| zebra stripes |    are neat  |   \\$1 |\n",
    "\n",
    "### 4.A. Feel free to add subsections\n",
    "\n",
    "#### 4.A.a. or subsubsections"
   ]
  },
  {
   "cell_type": "markdown",
   "metadata": {},
   "source": [
    "## 5. Conclusion ##\n",
    "\n",
    "Summarize your findings and your results, and talk about at least one possible future direction; something that might be interesting to pursue as a follow-up to your project."
   ]
  },
  {
   "cell_type": "markdown",
   "metadata": {},
   "source": []
  },
  {
   "cell_type": "markdown",
   "metadata": {},
   "source": [
    "## 6. Reference ##\n",
    "[Player Stats](https://www.nbastuffer.com/2018-2019-nba-player-stats/)"
   ]
  },
  {
   "cell_type": "code",
   "execution_count": 6,
   "metadata": {},
   "outputs": [
    {
     "data": {
      "text/latex": [
       "$$ p_{i} \\quad\\forall i \\in \\{[4, 18, 24, 35, 87],[3, 5, 12, 34, 57],[1, 2, 3, 5, 13]\\} $$"
      ],
      "text/plain": [
       "p[i] for all i in {[4, 18, 24, 35, 87],[3, 5, 12, 34, 57],[1, 2, 3, 5, 13]}"
      ]
     },
     "execution_count": 6,
     "metadata": {},
     "output_type": "execute_result"
    }
   ],
   "source": [
    "using JuMP, Gurobi\n",
    "using PyPlot\n",
    "m = Model(solver=GurobiSolver(OutputFlag=0))\n",
    "A = [[4,18,24,35,87],[3,5,12,34,57],[1,2,3,5,13]]\n",
    "@variable(m, p[A])\n"
   ]
  },
  {
   "cell_type": "code",
   "execution_count": null,
   "metadata": {},
   "outputs": [],
   "source": []
  }
 ],
 "metadata": {
  "kernelspec": {
   "display_name": "Julia 0.6.4",
   "language": "julia",
   "name": "julia-0.6"
  },
  "language_info": {
   "file_extension": ".jl",
   "mimetype": "application/julia",
   "name": "julia",
   "version": "0.6.4"
  }
 },
 "nbformat": 4,
 "nbformat_minor": 2
}
