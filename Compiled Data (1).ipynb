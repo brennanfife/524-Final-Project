{
 "cells": [
  {
   "cell_type": "code",
   "execution_count": 3,
   "metadata": {},
   "outputs": [
    {
     "data": {
      "text/html": [
       "<table class=\"data-frame\"><thead><tr><th></th><th>Starter (=1)</th><th>FULL NAME</th><th>TEAM</th><th>POS</th><th>ORTGOffensive RatingIndividual offensive rating is the number of points produced by a player per 100 total individual possessions.</th><th>DRTGDefensive RatingIndividual defensive rating estimates how many points the player allowed per 100 possessions he individually faced while staying on the court.</th><th>Win %</th></tr></thead><tbody><tr><th>1</th><td>missing</td><td>missing</td><td>missing</td><td>missing</td><td>missing</td><td>missing</td><td>0.353659</td></tr><tr><th>2</th><td>1</td><td>Dewayne Dedmon</td><td>Atl</td><td>C</td><td>115.4</td><td>101.1</td><td>missing</td></tr><tr><th>3</th><td>missing</td><td>Isaac Humphries</td><td>Atl</td><td>C</td><td>87.1</td><td>106.7</td><td>missing</td></tr><tr><th>4</th><td>missing</td><td>Alex Len</td><td>Atl</td><td>C</td><td>112.8</td><td>104.6</td><td>missing</td></tr><tr><th>5</th><td>missing</td><td>Miles Plumlee</td><td>Atl</td><td>C</td><td>125.4</td><td>110.0</td><td>missing</td></tr><tr><th>6</th><td>missing</td><td>Tyler Zeller</td><td>Atl</td><td>C</td><td>82.4</td><td>74.1</td><td>missing</td></tr><tr><th>7</th><td>missing</td><td>Deyonta Davis</td><td>Atl</td><td>C</td><td>135.4</td><td>105.9</td><td>missing</td></tr><tr><th>8</th><td>missing</td><td>DeAndre' Bembry</td><td>Atl</td><td>F</td><td>97.2</td><td>106.2</td><td>missing</td></tr><tr><th>9</th><td>missing</td><td>BJ Johnson</td><td>Atl</td><td>F</td><td>112.2</td><td>110.5</td><td>missing</td></tr><tr><th>10</th><td>missing</td><td>Alex Poythress</td><td>Atl</td><td>F</td><td>116.8</td><td>102.8</td><td>missing</td></tr><tr><th>11</th><td>1</td><td>Taurean Prince</td><td>Atl</td><td>F</td><td>106.5</td><td>109.5</td><td>missing</td></tr><tr><th>12</th><td>missing</td><td>Omari Spellman</td><td>Atl</td><td>F</td><td>110.4</td><td>109.4</td><td>missing</td></tr><tr><th>13</th><td>1</td><td>John Collins</td><td>Atl</td><td>F</td><td>122.1</td><td>106.4</td><td>missing</td></tr><tr><th>14</th><td>missing</td><td>Jaylen Adams</td><td>Atl</td><td>G</td><td>99.5</td><td>108.1</td><td>missing</td></tr><tr><th>15</th><td>1</td><td>Kent Bazemore</td><td>Atl</td><td>G</td><td>98.2</td><td>106.3</td><td>missing</td></tr><tr><th>16</th><td>missing</td><td>Tyler Dorsey</td><td>Atl</td><td>G</td><td>95.7</td><td>110.5</td><td>missing</td></tr><tr><th>17</th><td>missing</td><td>Kevin Huerter</td><td>Atl</td><td>G</td><td>105.5</td><td>111.9</td><td>missing</td></tr><tr><th>18</th><td>missing</td><td>Jeremy Lin</td><td>Atl</td><td>G</td><td>112.5</td><td>109.1</td><td>missing</td></tr><tr><th>19</th><td>1</td><td>Trae Young</td><td>Atl</td><td>G</td><td>107.5</td><td>114.2</td><td>missing</td></tr><tr><th>20</th><td>missing</td><td>Justin Anderson</td><td>Atl</td><td>G</td><td>103.1</td><td>106.9</td><td>missing</td></tr><tr><th>21</th><td>missing</td><td>Vince Carter</td><td>Atl</td><td>G</td><td>111.7</td><td>107.7</td><td>missing</td></tr><tr><th>22</th><td>missing</td><td>Daniel Hamilton</td><td>Atl</td><td>G</td><td>90.7</td><td>107.7</td><td>missing</td></tr><tr><th>23</th><td>missing</td><td>missing</td><td>missing</td><td>missing</td><td>missing</td><td>missing</td><td>0.597561</td></tr><tr><th>24</th><td>missing</td><td>Robert Williams III</td><td>Bos</td><td>C</td><td>133.5</td><td>96.7</td><td>missing</td></tr><tr><th>25</th><td>1</td><td>Jaylen Brown</td><td>Bos</td><td>F</td><td>104.7</td><td>101.9</td><td>missing</td></tr><tr><th>26</th><td>1</td><td>Gordon Hayward</td><td>Bos</td><td>F</td><td>114.4</td><td>106.4</td><td>missing</td></tr><tr><th>27</th><td>missing</td><td>Marcus Morris</td><td>Bos</td><td>F</td><td>110.5</td><td>102.5</td><td>missing</td></tr><tr><th>28</th><td>missing</td><td>Semi Ojeleye</td><td>Bos</td><td>F</td><td>106.3</td><td>106.7</td><td>missing</td></tr><tr><th>29</th><td>1</td><td>Jayson Tatum</td><td>Bos</td><td>F</td><td>107.0</td><td>104.2</td><td>missing</td></tr><tr><th>30</th><td>missing</td><td>Daniel Theis</td><td>Bos</td><td>F</td><td>128.9</td><td>93.0</td><td>missing</td></tr><tr><th>&vellip;</th><td>&vellip;</td><td>&vellip;</td><td>&vellip;</td><td>&vellip;</td><td>&vellip;</td><td>&vellip;</td><td>&vellip;</td></tr></tbody></table>"
      ],
      "text/plain": [
       "627×7 DataFrames.DataFrame. Omitted printing of 3 columns\n",
       "│ Row │ Starter (=1) │ FULL NAME        │ TEAM    │ POS     │\n",
       "├─────┼──────────────┼──────────────────┼─────────┼─────────┤\n",
       "│ 1   │ \u001b[90mmissing\u001b[39m      │ \u001b[90mmissing\u001b[39m          │ \u001b[90mmissing\u001b[39m │ \u001b[90mmissing\u001b[39m │\n",
       "│ 2   │ 1            │ Dewayne Dedmon   │ Atl     │ C       │\n",
       "│ 3   │ \u001b[90mmissing\u001b[39m      │ Isaac Humphries  │ Atl     │ C       │\n",
       "│ 4   │ \u001b[90mmissing\u001b[39m      │ Alex Len         │ Atl     │ C       │\n",
       "│ 5   │ \u001b[90mmissing\u001b[39m      │ Miles Plumlee    │ Atl     │ C       │\n",
       "│ 6   │ \u001b[90mmissing\u001b[39m      │ Tyler Zeller     │ Atl     │ C       │\n",
       "│ 7   │ \u001b[90mmissing\u001b[39m      │ Deyonta Davis    │ Atl     │ C       │\n",
       "│ 8   │ \u001b[90mmissing\u001b[39m      │ DeAndre' Bembry  │ Atl     │ F       │\n",
       "│ 9   │ \u001b[90mmissing\u001b[39m      │ BJ Johnson       │ Atl     │ F       │\n",
       "│ 10  │ \u001b[90mmissing\u001b[39m      │ Alex Poythress   │ Atl     │ F       │\n",
       "│ 11  │ 1            │ Taurean Prince   │ Atl     │ F       │\n",
       "⋮\n",
       "│ 616 │ \u001b[90mmissing\u001b[39m      │ Devin Robinson   │ Was     │ F       │\n",
       "│ 617 │ \u001b[90mmissing\u001b[39m      │ Jason Smith      │ Was     │ F-C     │\n",
       "│ 618 │ \u001b[90mmissing\u001b[39m      │ Wesley Johnson   │ Was     │ F-G     │\n",
       "│ 619 │ \u001b[90mmissing\u001b[39m      │ Ron Baker        │ Was     │ G       │\n",
       "│ 620 │ 1            │ Bradley Beal     │ Was     │ G       │\n",
       "│ 621 │ \u001b[90mmissing\u001b[39m      │ Jordan McRae     │ Was     │ G       │\n",
       "│ 622 │ \u001b[90mmissing\u001b[39m      │ Gary Payton II   │ Was     │ G       │\n",
       "│ 623 │ \u001b[90mmissing\u001b[39m      │ Chasson Randle   │ Was     │ G       │\n",
       "│ 624 │ \u001b[90mmissing\u001b[39m      │ Austin Rivers    │ Was     │ G       │\n",
       "│ 625 │ 1            │ John Wall        │ Was     │ G       │\n",
       "│ 626 │ \u001b[90mmissing\u001b[39m      │ Tomas Satoransky │ Was     │ G-F     │\n",
       "│ 627 │ \u001b[90mmissing\u001b[39m      │ \u001b[90mmissing\u001b[39m          │ \u001b[90mmissing\u001b[39m │ \u001b[90mmissing\u001b[39m │"
      ]
     },
     "execution_count": 3,
     "metadata": {},
     "output_type": "execute_result"
    }
   ],
   "source": [
    "using CSV, NamedArrays, DataFrames\n",
    "\n",
    "stats = CSV.read(\"FBStats.csv\") \n",
    "# Full Data Set of players (627 rows)\n",
    "# 7 Columns: \n",
    "# 1(Starter binary variable), 2(Player Name), 3(Team Name), 4(Player position), 5(Off Rating), 6(Def Rating), 7(Team win%)"
   ]
  },
  {
   "cell_type": "markdown",
   "metadata": {},
   "source": [
    "This CSV is a data set of over 600 players listing their **position** in the lineup, their **name**, **team**, **position**, **offensive rating (OR)**, **defensive rating (DR)**, as well as the **win percentage** of their corresponding teams. It functions as the primary resource for determining the **300 players** we use in our first optimization problem and the **30 players** used in the second problem. "
   ]
  },
  {
   "cell_type": "markdown",
   "metadata": {},
   "source": [
    "## Determine the best bench players per team"
   ]
  },
  {
   "cell_type": "code",
   "execution_count": 4,
   "metadata": {},
   "outputs": [
    {
     "name": "stdout",
     "output_type": "stream",
     "text": [
      "30×5 Named Array{String,2}\n",
      "A ╲ B │                         1  …                          5\n",
      "──────┼────────────────────────────────────────────────────────\n",
      "1     │           \"Deyonta Davis\"  …               \"Jeremy Lin\"\n",
      "2     │     \"Robert Williams III\"              \"Brad Wanamaker\"\n",
      "3     │                \"Ed Davis\"                  \"Joe Harris\"\n",
      "4     │         \"Bismack Biyombo\"             \"Devonte' Graham\"\n",
      "5     │       \"Cristiano Felicio\"     \"Timothe Luwawu-Cabarrot\"\n",
      "6     │              \"Ante Zizic\"               \"Cameron Payne\"\n",
      "7     │           \"Dwight Powell\"              \"Ryan Broekhoff\"\n",
      "8     │           \"Mason Plumlee\"               \"Malik Beasley\"\n",
      "9     │           \"Zaza Pachulia\"           \"Langston Galloway\"\n",
      "⋮                               ⋮  ⋱                          ⋮\n",
      "22    │              \"Khem Birch\"                \"Jerian Grant\"\n",
      "23    │             \"Greg Monroe\"               \"Landry Shamet\"\n",
      "24    │          \"Richaun Holmes\"                \"Troy Daniels\"\n",
      "25    │          \"Meyers Leonard\"                 \"Rodney Hood\"\n",
      "26    │         \"Harry Giles III\"                \"Yogi Ferrell\"\n",
      "27    │            \"Jakob Poeltl\"                 \"Patty Mills\"\n",
      "28    │       \"Jonas Valanciunas\"                 \"Jodie Meeks\"\n",
      "29    │               \"Ekpe Udoh\"                 \"Kyle Korver\"\n",
      "30    │           \"Thomas Bryant\"  …         \"Tomas Satoransky\"\n"
     ]
    }
   ],
   "source": [
    "# Reduce the data set to the 5 best starters and 5 best bench players for all 30 teams (150 starters, 150 bench players)\n",
    "\n",
    "function fCenter(i) # If column 6 of player index i is C(enter)\n",
    "    if (length(c) == 0) # Are there any centers\n",
    "        push!(c, i) # No centers, push player onto array c[] (array size 1)\n",
    "    elseif ((stats[c[1],5] - stats[c[1], 6]) < (stats[i, 5] - stats[i, 6])) # Is the current indexed center a better Center\n",
    "        c[1] = i # Replace the center with the \"superior\" player\n",
    "    end\n",
    "end\n",
    "\n",
    "function fForward(i) # If column 6 of player index i is F(orward)\n",
    "    if (length(f) == 0) # Are there any forwards\n",
    "        push!(f, i) # No forwards, push player onto array f[] (array size 2)\n",
    "    elseif ((stats[f[1],5] - stats[f[1], 6]) <= (stats[i, 5] - stats[i, 6])) # Is the current forward superior to the forward at index 1 of f[]\n",
    "        if length(f) != 1 # Are there 2 forwards in f\n",
    "            pop!(f) # Remove player on the end of f\n",
    "        end\n",
    "        unshift!(f, i) # add current indexed player to front of f\n",
    "    elseif (length(f) == 1) # Only 1 forward player currently (need 2)\n",
    "        push!(f, i) # Add player to the end of f\n",
    "    elseif ((stats[f[2],5] - stats[f[2], 6]) < (stats[i, 5] - stats[i, 6])) # Is the current forward superior to the forward at index 2 of f\n",
    "        pop!(f) # Remove last positioned forward\n",
    "        push!(f, i) # Add player to the end of f\n",
    "    end\n",
    "end\n",
    "\n",
    "function fGuard(i) # If column 6 of player index i is G(uard)\n",
    "    if (length(g) == 0) # Are there any guards\n",
    "        push!(g, i) # No guards, push player onto array g[] (array size 2)\n",
    "    elseif ((stats[g[1],5] - stats[g[1], 6]) <= (stats[i, 5] - stats[i, 6])) # Is the current guard superior to the guard at index 1 of g[]\n",
    "        if length(g) != 1 # Are there 2 guards in g\n",
    "            pop!(g) # Remove player on the end of g\n",
    "        end\n",
    "        unshift!(g, i) # add current indexed player to the front of g\n",
    "    elseif (length(g) == 1) # Only 1 guard player currently (need 2)\n",
    "        push!(g, i) # Add player to the end of g\n",
    "    elseif ((stats[g[2],5] - stats[g[2], 6]) < (stats[i, 5] - stats[i, 6])) # Is the current guard superior to the guard at index 2 of f\n",
    "        pop!(g) # Remove last positioned guard\n",
    "        push!(g, i) # Add player to the end of g\n",
    "    end\n",
    "end\n",
    "\n",
    "c = Int64[] # Hold index of the best center (length at most 1)\n",
    "f = Int64[] # Hold index of the two best forwards (length at most 2)\n",
    "g = Int64[] # Hold index of the two best guards (length at most 2)\n",
    "team = 1 # Track which team is currently being indexed (1:30)\n",
    "bench = Array{String}(30,5) # Hold the best 5 bench players for all 30 teams\n",
    "for i in 2:627 # from row 2 to row 627\n",
    "    if (typeof(stats[i, 7]) == Missings.Missing) # type Missings.Missing expected unless moving to the next team\n",
    "        if (typeof(stats[i,1]) == Missings.Missing) # type Missings.Missing expected for all bench players\n",
    "            if (stats[i,4][1] == 'C') # Is the player a center\n",
    "                fCenter(i) # Determine their position as a center\n",
    "                continue\n",
    "            end\n",
    "            if (stats[i,4][1] == 'G') # Is the player a Guard\n",
    "                fGuard(i) # Determine their position as a guard\n",
    "                continue\n",
    "            end\n",
    "            if (length(stats[i,4]) == 3) # If the player has a secondary position\n",
    "                if (stats[i,4][3] == 'C') # Is the player a secondary center \n",
    "                    fCenter(i) # Determine their position as a center\n",
    "                    continue\n",
    "                end\n",
    "                if (stats[i,4][3] == 'F') # Is the player a secondary forward\n",
    "                    fForward(i) # Determine their position as a forward\n",
    "                    continue \n",
    "                end\n",
    "                if (stats[i,4][3] == 'G') # Is the player a secondary guard\n",
    "                    fGuard(i) # Determine their position as a guard\n",
    "                    continue\n",
    "                end\n",
    "            end\n",
    "            if (stats[i,4][1] == 'F') # Is the player a forward (after all other cases to accomidate center deficit)\n",
    "                fForward(i) # Determine their position  as a forward\n",
    "                continue\n",
    "            end\n",
    "        end\n",
    "    else # Detected a Float64 type (team win %)\n",
    "        bench[team, 1] = stats[c[1], 2] # Add center to the bench at index 1\n",
    "        bench[team, 2] = stats[f[1], 2] # Add the best forward to the bench at index 2\n",
    "        bench[team, 3] = stats[f[2], 2] # Add the second best forward to the bench at index 3\n",
    "        bench[team, 4] = stats[g[1], 2] # Add the best guard to the bench at index 4\n",
    "        bench[team, 5] = stats[g[2], 2] # Add the second best guard to the bench at index 5\n",
    "        team = team + 1 # Increment the team being filtered\n",
    "        c = Int64[] # Reset center array\n",
    "        f = Int64[] # Reset forward array\n",
    "        g = Int64[] # Reset guard array\n",
    "    end\n",
    "end\n",
    "println(NamedArray(bench))"
   ]
  },
  {
   "cell_type": "markdown",
   "metadata": {},
   "source": [
    "As most teams have a random number of bench players in their lineup, we decided to find the 150 best bench players (5 non-starters for each team) by taking the best center, two best forwards, and two best guards for each team and updating our data set to match our resulting teams of 10."
   ]
  },
  {
   "cell_type": "code",
   "execution_count": 5,
   "metadata": {},
   "outputs": [
    {
     "name": "stdout",
     "output_type": "stream",
     "text": [
      "331×7 DataFrames.DataFrame. Omitted printing of 5 columns\n",
      "│ Row │ Starter (=1) │ FULL NAME        │\n",
      "├─────┼──────────────┼──────────────────┤\n",
      "│ 1   │ \u001b[90mmissing\u001b[39m      │ \u001b[90mmissing\u001b[39m          │\n",
      "│ 2   │ 1            │ Dewayne Dedmon   │\n",
      "│ 3   │ 1            │ Taurean Prince   │\n",
      "│ 4   │ 1            │ John Collins     │\n",
      "│ 5   │ 1            │ Kent Bazemore    │\n",
      "│ 6   │ 1            │ Trae Young       │\n",
      "│ 7   │ \u001b[90mmissing\u001b[39m      │ Deyonta Davis    │\n",
      "│ 8   │ \u001b[90mmissing\u001b[39m      │ BJ Johnson       │\n",
      "⋮\n",
      "│ 323 │ 1            │ Otto Porter Jr.  │\n",
      "│ 324 │ 1            │ Bradley Beal     │\n",
      "│ 325 │ 1            │ John Wall        │\n",
      "│ 326 │ \u001b[90mmissing\u001b[39m      │ Thomas Bryant    │\n",
      "│ 327 │ \u001b[90mmissing\u001b[39m      │ Jeff Green       │\n",
      "│ 328 │ \u001b[90mmissing\u001b[39m      │ Devin Robinson   │\n",
      "│ 329 │ \u001b[90mmissing\u001b[39m      │ Gary Payton II   │\n",
      "│ 330 │ \u001b[90mmissing\u001b[39m      │ Tomas Satoransky │\n",
      "│ 331 │ \u001b[90mmissing\u001b[39m      │ \u001b[90mmissing\u001b[39m          │\n",
      "601×4 DataFrames.DataFrame\n",
      "│ Row │ Rk  │ Player             │           │ 2018-19   │\n",
      "├─────┼─────┼────────────────────┼───────────┼───────────┤\n",
      "│ 1   │ 1   │ Stephen Curry      │ curryst01 │ 3.74572e7 │\n",
      "│ 2   │ 2   │ LeBron James       │ jamesle01 │ 3.56542e7 │\n",
      "│ 3   │ 3   │ Russell Westbrook  │ westbru01 │ 3.56542e7 │\n",
      "│ 4   │ 4   │ Chris Paul         │ paulch01  │ 3.56542e7 │\n",
      "│ 5   │ 5   │ Blake Griffin      │ griffbl01 │ 3.20889e7 │\n",
      "│ 6   │ 6   │ Gordon Hayward     │ haywago01 │ 3.12143e7 │\n",
      "│ 7   │ 7   │ Kyle Lowry         │ lowryky01 │ 3.12e7    │\n",
      "│ 8   │ 8   │ Paul George        │ georgpa01 │ 3.05607e7 │\n",
      "⋮\n",
      "│ 593 │ 593 │ Alex Poythress     │ n         │ 77250.0   │\n",
      "│ 594 │ 594 │ Johnathan Motley   │ n         │ 79568.0   │\n",
      "│ 595 │ 595 │ Johnathan Williams │ n         │ 127250.0  │\n",
      "│ 596 │ 596 │ Devin Robinson     │ n         │ 77250.0   │\n",
      "│ 597 │ 597 │ RJ Hunter          │ n         │ 77250.0   │\n",
      "│ 598 │ 598 │ Alex Caruso        │ n         │ 2.75e6    │\n",
      "│ 599 │ 599 │ Kadeem Allen       │ n         │ 77250.0   │\n",
      "│ 600 │ 600 │ Jordan Loyd        │ n         │ 77250.0   │\n",
      "│ 601 │ 601 │ Kalin Lucas        │ n         │ 648000.0  │\n"
     ]
    }
   ],
   "source": [
    "true_set = CSV.read(\"TrueDataSet.csv\") # Filtered Data Set of 300 players (150 starters, 150 bench players, 30 teams)\n",
    "println(true_set)\n",
    "\n",
    "S = CSV.read(\"Salary.csv\") # Yearly salaries of players\n",
    "println(S)"
   ]
  },
  {
   "cell_type": "markdown",
   "metadata": {},
   "source": [
    "These CSVs represent our 30 teams, composing a possible lineup of 300 players and a 600 player data set containing salaries respectively. As our original data set does not include player yearly salaries, we are using separate data sets for both and joining them when constructing our player data structure later in the project. The primary use of the salaries is to set a lower bound on how much we spend on players, which may seem counter-intuitive, but insures that we are considering a player's experience, not just their raw statistics. "
   ]
  },
  {
   "cell_type": "markdown",
   "metadata": {},
   "source": [
    "## Assemble team data set and find the coefficients for model 1"
   ]
  },
  {
   "cell_type": "code",
   "execution_count": 6,
   "metadata": {},
   "outputs": [
    {
     "name": "stdout",
     "output_type": "stream",
     "text": [
      "30×5 Named Array{Float64,2}\n",
      "          A ╲ B │ Starter OffR    Bench OffR  …    Bench DefR      Constant\n",
      "────────────────┼──────────────────────────────────────────────────────────\n",
      "Atlanta         │        549.7         588.6  …         536.0           1.0\n",
      "Boston          │        566.2         630.5            488.7           1.0\n",
      "Brooklyn        │        540.1         611.5            493.1           1.0\n",
      "Charlotte       │        574.8         567.6            527.2           1.0\n",
      "Chicago         │        526.9         570.8            529.3           1.0\n",
      "Clevland        │        550.8         577.0            537.6           1.0\n",
      "Dallas          │        539.9         607.9            528.8           1.0\n",
      "Denver          │        555.6         591.7            517.8           1.0\n",
      "Detroit         │        543.2         603.1            478.8           1.0\n",
      "⋮                            ⋮             ⋮  ⋱             ⋮             ⋮\n",
      "Orlando         │        556.7         608.6            492.5           1.0\n",
      "Philadelphia    │        528.2         635.8            513.0           1.0\n",
      "Phoenix         │        515.2         552.1            511.9           1.0\n",
      "Portland        │        584.1         600.9            519.7           1.0\n",
      "Sacramento      │        544.8         551.7            500.8           1.0\n",
      "San Antonio     │        570.9         606.3            529.4           1.0\n",
      "Toronto         │        564.7         611.6            492.0           1.0\n",
      "Utah            │        578.7         579.6            494.3           1.0\n",
      "Washington      │        550.3         629.8  …         530.1           1.0"
     ]
    },
    {
     "data": {
      "text/plain": [
       "5×1 Array{Float64,2}:\n",
       "  0.00387412 \n",
       "  0.000929683\n",
       " -0.00563723 \n",
       " -0.00066789 \n",
       "  1.09433    "
      ]
     },
     "execution_count": 6,
     "metadata": {},
     "output_type": "execute_result"
    }
   ],
   "source": [
    "# Holds the Offensive and Defensive ratings of starters and bench players for use in defining coefficients\n",
    "team_set = Array{Float64, 2}(30, 5)\n",
    "\n",
    "n = 0 # increments by 11 to indicate the next team\n",
    "\n",
    "for i in 1:30 # iterate through the teams\n",
    "    team_set[i,1] = sum(true_set[2+n:6+n,3]) # Sum up the OffR of all 5 starters\n",
    "    team_set[i,2] = sum(true_set[7+n:11+n,3]) # Sum up the OffR of all 5 bench players\n",
    "\n",
    "    team_set[i,3] = sum(true_set[2+n:6+n,4]) # Sum up the DefR of all 5 starters\n",
    "    team_set[i,4] = sum(true_set[7+n:11+n,4]) # Sum up the DefR of all 5 bench players\n",
    "    n = n + 11 # Move onto the next team set\n",
    "end\n",
    "\n",
    "team_set[:,5] = 1.0 # Set constant for each team (W_0)\n",
    "\n",
    "nteams = NamedArray(team_set) # Create named array of teams\n",
    "\n",
    "# Label rows by team named\n",
    "setnames!(nteams, [\"Atlanta\", \"Boston\", \"Brooklyn\", \"Charlotte\", \"Chicago\", \"Clevland\", \"Dallas\", \n",
    "        \"Denver\", \"Detroit\", \"Golden State\", \"Houston\", \"Indiana\", \"LA Clippers\", \"LA Lakers\", \n",
    "        \"Memphis\", \"Miami\", \"Milwaukee\", \"Minnesota\", \"New Orleans\", \"New York Knicks\", \"Oklahoma City\", \n",
    "        \"Orlando\", \"Philadelphia\", \"Phoenix\", \"Portland\", \"Sacramento\", \"San Antonio\", \"Toronto\", \"Utah\", \"Washington\"], 1)\n",
    "# Label columns by statistic\n",
    "setnames!(nteams, [\"Starter OffR\", \"Bench OffR\", \"Starter DefR\", \"Bench DefR\", \"Constant\"], 2)\n",
    "show(nteams)\n",
    "\n",
    "winP = Array{Float64}(30, 1) # Hold the expected win % of each team (row 7 of true_set)\n",
    "\n",
    "for i in 1:30 # Iterate over teams\n",
    "    winP[i] = true_set[i*10-(10-i), 7] # assign win % to team index\n",
    "end\n",
    "\n",
    "w = inv(team_set'*team_set)*(team_set'*winP) # Derive the coefficients using least squares"
   ]
  },
  {
   "cell_type": "markdown",
   "metadata": {},
   "source": [
    "In order to determine our coefficients when calculating the best team composition and projected winning percentage for our team, we create a data set of our 30 teams and store the Offensive and Defensive ratings for both the starters and bench players of each. Then, using this array of team OffR and DefR values and the expected winning percentages of each team, we determined the coefficients using least squares. "
   ]
  },
  {
   "cell_type": "markdown",
   "metadata": {},
   "source": [
    "## Assemble player data set"
   ]
  },
  {
   "cell_type": "code",
   "execution_count": 7,
   "metadata": {},
   "outputs": [
    {
     "name": "stdout",
     "output_type": "stream",
     "text": [
      "300×4 Named Array{Union{Float64, String},2}\n",
      "A ╲ B │             Player  …              Salary\n",
      "──────┼──────────────────────────────────────────\n",
      "1     │   \"Dewayne Dedmon\"  …               7.2e6\n",
      "2     │       \"Al Horford\"              2.89287e7\n",
      "3     │    \"Jarrett Allen\"              2.03412e6\n",
      "4     │      \"Cody Zeller\"              1.35281e7\n",
      "5     │      \"Robin Lopez\"              1.43578e7\n",
      "6     │       \"Kevin Love\"               2.4119e7\n",
      "7     │   \"DeAndre Jordan\"                 2.29e7\n",
      "8     │     \"Nikola Jokic\"              2.46052e7\n",
      "9     │   \"Andre Drummond\"              2.54343e7\n",
      "⋮                        ⋮  ⋱                   ⋮\n",
      "292   │     \"Jerian Grant\"              2.63931e6\n",
      "293   │    \"Landry Shamet\"              1.70364e6\n",
      "294   │    \"Tyler Johnson\"              1.92454e7\n",
      "295   │      \"Rodney Hood\"              3.47289e6\n",
      "296   │     \"Corey Brewer\"               270496.0\n",
      "297   │      \"Patty Mills\"              1.15714e7\n",
      "298   │      \"Jodie Meeks\"               122953.0\n",
      "299   │      \"Kyle Korver\"                 7.56e6\n",
      "300   │ \"Tomas Satoransky\"  …           3.12919e6"
     ]
    }
   ],
   "source": [
    "pRost = Array{Union{String, Float64}, 2}(300, 4) # Reshape the true data set to fit structure\n",
    "# 300 rows (30 starting centers -> 60 starting forwards -> 60 starting guards\n",
    "#        -> 30 bench centers -> 60 bench forwards -> 60 bench guards         )\n",
    "# 4 rows (player name, offensive rating, defensive rating, and yearly salary)\n",
    "n = 1 # Track current index to add to p(layer)Rost(er)\n",
    "for nl in 1:11 # Current player significance and position (beginning at starting centers)\n",
    "    for i in nl:11:330 # iterate through players of specific position and role (starting center, starting forward, etc.)\n",
    "        if (typeof(true_set[i, 2]) != Missings.Missing) # Expecting types of String\n",
    "            for j in 1:3 # Loop through the player's stats\n",
    "                pRost[n, j] = true_set[i, j + 1] # Assign players name, OffR, and DefR\n",
    "            end\n",
    "            n += 1 # Increment current roster index\n",
    "        end\n",
    "    end\n",
    "end\n",
    "for i in 1:601 # Iterate through the entire salary dataset\n",
    "    for j in 1:300 # Iterate through the player roster\n",
    "        if (S[i, 2] == pRost[j, 1]) # If the salary name matches the player's name\n",
    "            pRost[j, 4] = S[i, 4] # Add the players salary to column 4 of the player roster\n",
    "        end\n",
    "    end\n",
    "end\n",
    "\n",
    "pn = NamedArray(pRost) # Create named array of players\n",
    "# Set the columns according to their attribute\n",
    "setnames!(pn, [\"Player\", \"OffR\", \"DefR\", \"Salary\"], 2)\n",
    "show(pn)"
   ]
  },
  {
   "cell_type": "markdown",
   "metadata": {},
   "source": [
    "# Model 1"
   ]
  },
  {
   "cell_type": "code",
   "execution_count": 10,
   "metadata": {},
   "outputs": [
    {
     "name": "stdout",
     "output_type": "stream",
     "text": [
      "No match for OutputFlag - ? for list of commands\n",
      "No match for 0 - ? for list of commands\n",
      "[0.0, 0.0, 0.0, 0.0, 0.0, 0.0, 0.0, 0.0, 0.0, 0.0, 0.0, 0.0, 0.0, 0.0, 0.0, 0.0, 0.0, 0.0, 0.0, 0.0, 0.0, 0.0, 0.0, 0.0, 0.0, 0.0, 0.0, 0.0, 1.0, 0.0, 0.0, 0.0, 0.0, 0.0, 0.0, 0.0, 0.0, 0.0, 0.0, 0.0, 0.0, 0.0, 0.0, 0.0, 0.0, 0.0, 1.0, 0.0, 0.0, 0.0, 0.0, 0.0, 0.0, 0.0, 0.0, 0.0, 0.0, 0.0, 0.0, 0.0, 0.0, 0.0, 0.0, 0.0, 0.0, 0.0, 0.0, 0.0, 0.0, 0.0, 0.0, 0.0, 0.0, 0.0, 0.0, 0.0, 0.0, 0.0, 0.0, 0.0, 0.0, 0.0, 0.0, 0.0, 0.0, 0.0, 0.0, 0.0, 1.0, 0.0, 0.0, 0.0, 0.0, 0.0, 0.0, 0.0, 0.0, 0.0, 0.0, 0.0, 1.0, 0.0, 0.0, 0.0, 0.0, 0.0, 1.0, 0.0, 0.0, 0.0, 0.0, 0.0, 0.0, 0.0, 0.0, 0.0, 0.0, 0.0, 0.0, 0.0, 0.0, 0.0, 0.0, 0.0, 0.0, 0.0, 0.0, 0.0, 0.0, 0.0, 0.0, 0.0, 0.0, 0.0, 0.0, 0.0, 0.0, 0.0, 0.0, 0.0, 0.0, 0.0, 0.0, 0.0, 0.0, 0.0, 0.0, 0.0, 0.0, 0.0]\n",
      "0.693917472604159\n",
      "\n",
      "Starter Lineup: \n",
      "Rudy Gobert: 133.8, 96.7\n",
      "Giannis Antetokounmpo: 121.6, 93.9\n",
      "Derrick Favors: 124.5, 98.1\n",
      "James Harden: 118.6, 103.5\n",
      "Eric Bledsoe: 115.8, 101.0\n"
     ]
    }
   ],
   "source": [
    "# Determine the optimal starter composition (1 center, 2 forwards, 2 guards) based on their OffR and DefR\n",
    "Budget = 109000000\n",
    "\n",
    "using JuMP, Cbc\n",
    "\n",
    "m = Model(solver = CbcSolver(OutputFlag=0))  \n",
    "\n",
    "@variable(m, p[1:150] >= 0, Bin) # Array of binary variables determining the best starting lineup\n",
    "\n",
    "@expression(m, full_lineup, w[5] + sum(w[1]*(p[i] * pRost[i, 2]) for i in 1:150) + sum(w[3]*(p[i] * pRost[i, 3]) for i in 1:150))\n",
    "\n",
    "@constraint(m, sum(p[i] for i in 1:150) == 5) # The team must consist of 5 players\n",
    "@constraint(m, sum(p[i] for i in 1:30) == 1) # Must have 1 center\n",
    "@constraint(m, sum(p[i] for i in 31:90) == 2) # 2 forwards\n",
    "@constraint(m, sum(p[i] for i in 91:150) == 2) # 2 guards\n",
    "\n",
    "@constraint(m, sum(p[i] * pRost[i, 4] for i in 1:150) >= Budget) # Must spend the budget on players (restricts inexperience)\n",
    "\n",
    "@objective(m, Max, full_lineup) # Maximize the lineup's Offensive Rating while minimizing Defensive Rating\n",
    "\n",
    "solve(m)\n",
    "\n",
    "println(getvalue(p[:])) # Players to use indicated by a 1.0\n",
    "\n",
    "println(getobjectivevalue(m))\n",
    "\n",
    "println(\"\\nStarter Lineup: \")\n",
    "for i in 1:150 # Display lineup (C, F, F, G, G from top to bottom) and their offensive and defensive rating\n",
    "    if (getvalue(p[i]) == 1.0)\n",
    "        print(pRost[i, 1], \": \")\n",
    "        print(sum(getvalue(p[i]) * pRost[i, 2]), \", \")\n",
    "        println(sum(getvalue(p[i]) * pRost[i, 3]))\n",
    "    end\n",
    "end"
   ]
  },
  {
   "cell_type": "code",
   "execution_count": 17,
   "metadata": {},
   "outputs": [
    {
     "name": "stdout",
     "output_type": "stream",
     "text": [
      "No match for OutputFlag - ? for list of commands\n",
      "No match for 0 - ? for list of commands\n",
      "[0.0, 0.0, 0.0, 0.0, 0.0, 0.0, 0.0, 0.0, 0.0, 0.0, 0.0, 0.0, 0.0, 0.0, 0.0, 0.0, 0.0, 0.0, 0.0, 0.0, 0.0, 0.0, 0.0, 0.0, 0.0, 0.0, 0.0, 1.0, 0.0, 0.0, 0.0, 0.0, 0.0, 0.0, 0.0, 0.0, 0.0, 0.0, 0.0, 0.0, 0.0, 0.0, 0.0, 0.0, 0.0, 0.0, 0.0, 0.0, 0.0, 0.0, 0.0, 1.0, 0.0, 0.0, 0.0, 0.0, 0.0, 0.0, 0.0, 0.0, 0.0, 0.0, 0.0, 1.0, 0.0, 0.0, 0.0, 0.0, 0.0, 0.0, 0.0, 0.0, 0.0, 0.0, 0.0, 0.0, 0.0, 0.0, 0.0, 0.0, 0.0, 0.0, 0.0, 0.0, 0.0, 0.0, 0.0, 0.0, 0.0, 0.0, 0.0, 0.0, 0.0, 0.0, 0.0, 0.0, 0.0, 0.0, 0.0, 0.0, 0.0, 0.0, 0.0, 0.0, 0.0, 0.0, 0.0, 0.0, 0.0, 0.0, 0.0, 0.0, 0.0, 0.0, 0.0, 0.0, 0.0, 0.0, 0.0, 0.0, 0.0, 0.0, 0.0, 0.0, 0.0, 0.0, 0.0, 0.0, 0.0, 0.0, 0.0, 0.0, 0.0, 1.0, 0.0, 0.0, 0.0, 1.0, 0.0, 0.0, 0.0, 0.0, 0.0, 0.0, 0.0, 0.0, 0.0, 0.0, 0.0, 0.0]\n",
      "1.3807898175070852\n",
      "\n",
      "Starter Lineup: \n",
      "Jonas Valanciunas: 121.3, 92.1\n",
      "Amile Jefferson: 147.3, 96.0\n",
      "Michael Kidd-Gilchrist: 115.8, 101.7\n",
      "Scott Machado: 165.4, 105.6\n",
      "Jimmy Butler: 121.7, 110.4\n"
     ]
    }
   ],
   "source": [
    "# Determine the optimal starter composition (1 center, 2 forwards, 2 guards) based on their OffR and DefR\n",
    "Budget = 50000000\n",
    "\n",
    "using JuMP, Cbc\n",
    "\n",
    "m = Model(solver = CbcSolver(OutputFlag=0))  \n",
    "\n",
    "@variable(m, p[151:300] >= 0, Bin) # Array of binary variables determining the best starting lineup\n",
    "\n",
    "@expression(m, full_lineup, w[5] + sum(w[2]*(p[i] * pRost[i, 2]) for i in 151:300) + sum(w[4]*(p[i] * pRost[i, 3]) for i in 151:300))\n",
    "\n",
    "@constraint(m, sum(p[i] for i in 151:300) == 5) # The team must consist of 5 players\n",
    "@constraint(m, sum(p[i] for i in 151:180) == 1) # Must have 1 center\n",
    "@constraint(m, sum(p[i] for i in 181:240) == 2) # 2 forwards\n",
    "@constraint(m, sum(p[i] for i in 241:300) == 2) # 2 guards\n",
    "\n",
    "@constraint(m, sum(p[i] * pRost[i, 4] for i in 151:300) >= Budget) # Must spend at least the budget amount on players\n",
    "\n",
    "@objective(m, Max, full_lineup) # Maximize the lineup's Offensive Rating while minimizing Defensive Rating\n",
    "\n",
    "solve(m)\n",
    "\n",
    "println(getvalue(p[:])) # Players to use indicated by a 1.0\n",
    "\n",
    "println(getobjectivevalue(m))\n",
    "\n",
    "println(\"\\nStarter Lineup: \")\n",
    "for i in 151:300 # Display lineup (C, F, F, G, G from top to bottom) and their offensive and defensive rating\n",
    "    if (getvalue(p[i]) == 1.0)\n",
    "        print(pRost[i, 1], \": \")\n",
    "        print(sum(getvalue(p[i]) * pRost[i, 2]), \", \")\n",
    "        println(sum(getvalue(p[i]) * pRost[i, 3]))\n",
    "    end\n",
    "end"
   ]
  },
  {
   "cell_type": "code",
   "execution_count": 154,
   "metadata": {},
   "outputs": [
    {
     "name": "stdout",
     "output_type": "stream",
     "text": [
      "Academic license - for non-commercial use only\r\n",
      "[0.0, -0.0, 0.0, 0.0, 0.0, 0.0, 0.0, 0.0, 0.0, 0.0, 0.0, 0.0, 0.0, 0.0, 0.0, -0.0, 0.0, 0.0, 0.0, 0.0, 0.0, 0.0, -0.0, 0.0, 0.0, 0.0, 0.0, 0.0, 1.0, 0.0, -0.0, -0.0, -0.0, -0.0, -0.0, -0.0, -0.0, -0.0, -0.0, -0.0, -0.0, -0.0, -0.0, -0.0, -0.0, -0.0, 1.0, -0.0, -0.0, -0.0, -0.0, -0.0, -0.0, -0.0, -0.0, -0.0, -0.0, -0.0, -0.0, -0.0, -0.0, -0.0, -0.0, -0.0, -0.0, -0.0, -0.0, -0.0, -0.0, -0.0, -0.0, -0.0, -0.0, -0.0, -0.0, -0.0, -0.0, -0.0, -0.0, -0.0, -0.0, -0.0, -0.0, -0.0, -0.0, -0.0, -0.0, -0.0, 1.0, -0.0, -0.0, -0.0, -0.0, -0.0, -0.0, -0.0, -0.0, -0.0, -0.0, 1.0, -0.0, -0.0, -0.0, -0.0, -0.0, -0.0, -0.0, -0.0, -0.0, -0.0, -0.0, -0.0, -0.0, -0.0, -0.0, -0.0, -0.0, -0.0, -0.0, -0.0, -0.0, -0.0, -0.0, -0.0, -0.0, -0.0, -0.0, -0.0, -0.0, -0.0, 1.0, -0.0, -0.0, -0.0, -0.0, -0.0, -0.0, -0.0, -0.0, -0.0, -0.0, -0.0, -0.0, -0.0, -0.0, -0.0, -0.0, -0.0, -0.0, -0.0, 0.0, 0.0, 0.0, 0.0, 0.0, 0.0, 0.0, 0.0, 0.0, 0.0, 0.0, 0.0, 0.0, 0.0, 0.0, 0.0, 0.0, 0.0, 0.0, 0.0, 0.0, 0.0, 0.0, 0.0, 0.0, 0.0, 0.0, 1.0, 0.0, 0.0, 0.0, 0.0, 0.0, 0.0, 0.0, 0.0, 0.0, 0.0, 0.0, 0.0, 0.0, 0.0, 0.0, 0.0, 0.0, 0.0, 0.0, 0.0, 0.0, 0.0, 0.0, 1.0, 0.0, 0.0, 0.0, 0.0, 0.0, 0.0, 0.0, 0.0, 0.0, 0.0, 0.0, 0.0, 0.0, 0.0, 0.0, 0.0, 1.0, 0.0, 0.0, 0.0, 0.0, 0.0, 0.0, 0.0, 0.0, 0.0, 0.0, 0.0, 0.0, 0.0, 0.0, 0.0, 0.0, 0.0, 0.0, 0.0, 0.0, 0.0, 0.0, 0.0, 0.0, 0.0, 0.0, 0.0, 0.0, 0.0, 0.0, 0.0, 0.0, 0.0, 0.0, 0.0, 0.0, 0.0, 0.0, 0.0, 0.0, 0.0, 0.0, 0.0, 0.0, 0.0, 0.0, 0.0, 0.0, 0.0, 0.0, 0.0, 0.0, 0.0, 0.0, 0.0, 0.0, 0.0, 0.0, 0.0, 0.0, 1.0, 0.0, 0.0, 0.0, 0.0, 0.0, 0.0, 0.0, 1.0, 0.0, 0.0, 0.0, 0.0, 0.0, 0.0, 0.0, 0.0, 0.0, 0.0, 0.0, 0.0]\n",
      "0.9197543885037445\n",
      "\n",
      "Starter Lineup: \n",
      "Rudy Gobert: 133.8, 96.7\n",
      "Giannis Antetokounmpo: 121.6, 93.9\n",
      "Derrick Favors: 124.5, 98.1\n",
      "Stephen Curry: 119.9, 106.3\n",
      "Chris Paul: 118.5, 104.9\n",
      "\n",
      "Bench Lineup: \n",
      "Jonas Valanciunas: 121.3, 92.1\n",
      "Amile Jefferson: 147.3, 96.0\n",
      "Jon Leuer: 112.6, 95.4\n",
      "Andre Iguodala: 124.4, 107.8\n",
      "Jimmy Butler: 121.7, 110.4\n"
     ]
    }
   ],
   "source": [
    "# Determine the optimal starter composition (1 center, 2 forwards, 2 guards) based on their OffR and DefR\n",
    "Budget = 200000000 # Budget of 200,000,000\n",
    "\n",
    "using JuMP, Gurobi\n",
    "\n",
    "m = Model(solver = GurobiSolver(OutputFlag=0))  \n",
    "\n",
    "@variable(m, p[1:300] >= 0, Bin) # Array of binary variables determining the best starting lineup\n",
    "\n",
    "@expression(m, full_lineup, w[5] + w[1]*sum(p[i] * pRost[i, 2] for i in 1:150) + w[2]*sum(p[i] * pRost[i, 2] for i in 151:300)\n",
    "    + w[3]*sum(p[i] * pRost[i, 3] for i in 1:150) + w[4]*sum(p[i] * pRost[i, 3] for i in 151:300))\n",
    "\n",
    "@constraint(m, sum(p[i] for i in 1:30) <= 1) # Must have 1 center\n",
    "@constraint(m, -sum(p[i] for i in 1:30) <= -1)\n",
    "@constraint(m, sum(p[i] for i in 31:90) <= 2) # 2 forwards\n",
    "@constraint(m, -sum(p[i] for i in 31:90) <= -2)\n",
    "@constraint(m, sum(p[i] for i in 91:150) <= 2) # 2 guards\n",
    "@constraint(m, -sum(p[i] for i in 91:150) <= -2)\n",
    "\n",
    "@constraint(m, sum(p[i] for i in 151:180) <= 1) # Must have 1 center\n",
    "@constraint(m, -sum(p[i] for i in 151:180) <= -1) \n",
    "@constraint(m, sum(p[i] for i in 181:240) <= 2) # 2 forwards\n",
    "@constraint(m, -sum(p[i] for i in 181:240) <= -2)\n",
    "@constraint(m, sum(p[i] for i in 241:300) <= 2) # 2 guards\n",
    "@constraint(m, -sum(p[i] for i in 241:300) <= -2)\n",
    "\n",
    "@constraint(m, sum(p[i] for i in 1:300) <= 10) # 10 total players (guarantees no values almost 0.0 or almost 1.0)\n",
    "@constraint(m, -sum(p[i] for i in 1:300) <= -10)\n",
    "\n",
    "@constraint(m, -sum(p[i] * pRost[i, 4] for i in 1:300) <= -Budget) # Must spend at least the budget amount on players\n",
    "\n",
    "@objective(m, Max, full_lineup) # Maximize the lineup's Offensive Rating while minimizing Defensive Rating\n",
    "\n",
    "solve(m)\n",
    "\n",
    "println(getvalue(p[:])) # Players to use indicated by a 1.0\n",
    "\n",
    "println(getobjectivevalue(m))\n",
    "\n",
    "println(\"\\nStarter Lineup: \")\n",
    "for i in 1:300 # Display lineup (C, F, F, G, G from top to bottom) and their offensive and defensive rating\n",
    "    if i == 150.0\n",
    "        println(\"\\nBench Lineup: \")\n",
    "    end\n",
    "    if (getvalue(p[i]) == 1.0)\n",
    "        print(pRost[i, 1], \": \")\n",
    "        print(pRost[i, 2], \", \")\n",
    "        println(pRost[i, 3])\n",
    "    end\n",
    "end"
   ]
  },
  {
   "cell_type": "markdown",
   "metadata": {},
   "source": [
    "# Model 2"
   ]
  },
  {
   "cell_type": "code",
   "execution_count": 10,
   "metadata": {},
   "outputs": [],
   "source": [
    "# Construct an array of 30 players and their positions\n",
    "starter_set = Array{Union{Char, String}}(30, 2)\n",
    "n = 1 # Track the starting index of players\n",
    "current = 1 # Current index of the starter_set\n",
    "for j in 1:6 # loop 6 times\n",
    "    for i in n:11:66 # Iterate over player indices\n",
    "       if (typeof(true_set[i, 2]) != Missings.Missing) # Expect typeof String\n",
    "            starter_set[current, 1] = true_set[i, 2] # Add player name to index 1\n",
    "            starter_set[current, 2] = true_set[i, 6][1] # Add the primary position of the player to index 2\n",
    "            current = current + 1 # Increment the current starter_set index\n",
    "        end\n",
    "    end\n",
    "    n = n + 1 # move to the next set of players (c -> f -> f -> g -> g)\n",
    "end"
   ]
  },
  {
   "cell_type": "code",
   "execution_count": 11,
   "metadata": {},
   "outputs": [
    {
     "name": "stdout",
     "output_type": "stream",
     "text": [
      "30×2 Named Array{Union{Char, String},2}\n",
      "A ╲ B │                 1                  2\n",
      "──────┼─────────────────────────────────────\n",
      "1     │  \"Dewayne Dedmon\"                'C'\n",
      "2     │      \"Al Horford\"                'F'\n",
      "3     │   \"Jarrett Allen\"                'C'\n",
      "4     │     \"Cody Zeller\"                'F'\n",
      "5     │     \"Robin Lopez\"                'C'\n",
      "6     │      \"Kevin Love\"                'F'\n",
      "7     │  \"Taurean Prince\"                'F'\n",
      "8     │    \"Jaylen Brown\"                'F'\n",
      "9     │ \"DeMarre Carroll\"                'F'\n",
      "⋮                       ⋮                  ⋮\n",
      "22    │    \"Kemba Walker\"                'G'\n",
      "23    │       \"Kris Dunn\"                'G'\n",
      "24    │     \"Rodney Hood\"                'G'\n",
      "25    │      \"Trae Young\"                'G'\n",
      "26    │    \"Kyrie Irving\"                'G'\n",
      "27    │    \"Allen Crabbe\"                'G'\n",
      "28    │   \"Nicolas Batum\"                'G'\n",
      "29    │     \"Zach LaVine\"                'G'\n",
      "30    │        \"JR Smith\"                'G'\n"
     ]
    }
   ],
   "source": [
    "ss = NamedArray(starter_set)\n",
    "println(ss)"
   ]
  },
  {
   "cell_type": "code",
   "execution_count": 12,
   "metadata": {},
   "outputs": [
    {
     "name": "stdout",
     "output_type": "stream",
     "text": [
      "Any[\"Dewayne Dedmon C\", \"Al Horford F\", \"Jarrett Allen C\", \"Cody Zeller F\", \"Robin Lopez C\", \"Kevin Love F\", \"Taurean Prince F\", \"Jaylen Brown F\", \"DeMarre Carroll F\", \"Marvin Williams F\", \"Lauri Markkanen F\", \"Tristan Thompson F\", \"John Collins F\", \"Gordon Hayward F\", \"Rondae Hollis-Jefferson F\", \"Jeremy Lamb G\", \"Jabari Parker F\", \"George Hill G\", \"Kent Bazemore G\", \"Jayson Tatum F\", \"D'Angelo Russell G\", \"Kemba Walker G\", \"Kris Dunn G\", \"Rodney Hood G\", \"Trae Young G\", \"Kyrie Irving G\", \"Allen Crabbe G\", \"Nicolas Batum G\", \"Zach LaVine G\", \"JR Smith G\"]\n"
     ]
    }
   ],
   "source": [
    "# Array of strings containing player name and their corresponding, primary, position\n",
    "ps = []\n",
    "\n",
    "for i in 1:30 # for all 30 players\n",
    "   push!(ps, starter_set[i]\" \"starter_set[i+30]) # Add their name and position to the array\n",
    "end\n",
    "\n",
    "println(ps)"
   ]
  },
  {
   "cell_type": "code",
   "execution_count": 13,
   "metadata": {},
   "outputs": [],
   "source": [
    "using Distributions"
   ]
  },
  {
   "cell_type": "code",
   "execution_count": 15,
   "metadata": {},
   "outputs": [],
   "source": [
    "# Create a Dictionary mapping a player's name to an Array containing 9 arrays filled with a players \"sweet spots\"\n",
    "SS = Dict{String, Array{Array{Tuple{Float64, Float64}}}}()\n",
    "for i in 1:30\n",
    "       SS[starter_set[i, 1]] = [] # Map each name to an empty array\n",
    "end\n",
    "for i in 1:30\n",
    "   for j in 1:9\n",
    "         push!(SS[starter_set[i,1]], []) # Fill each players array with 9 empty arrays (each corresponds to a zone on the court)\n",
    "    end\n",
    "end"
   ]
  },
  {
   "cell_type": "code",
   "execution_count": 16,
   "metadata": {},
   "outputs": [],
   "source": [
    "# Function that checks the x and y values of the sweet spot and assigns it to its corresponding zone\n",
    "function SetPartition(temp, i)\n",
    "    if (temp[1] <= 8 && temp[2] >= 32) # Z1 (x -> 0 to 8, y -> 32 to 48)\n",
    "        push!(SS[starter_set[i,1]][1], temp) # Assign coordinates to player's first array of tuples (Zone 1)\n",
    "        \n",
    "    elseif (temp[1] >= 8 && temp[1] <= 16 && temp[2] >= 32) # Z2 (x -> 8 to 16, y -> 32 to 48)\n",
    "        push!(SS[starter_set[i,1]][2], temp) # Assign coordinates to player's second array of tuples (Zone 2)\n",
    "        \n",
    "    elseif (temp[1] >= 16 && temp[2] >= 32) # Z3 (x -> 16 to 24, y -> 32 to 48)\n",
    "        push!(SS[starter_set[i,1]][3], temp) # Assign coordinates to player's third array of tuples (Zone 3)\n",
    "          \n",
    "    elseif (temp[1] <= 8 && temp[2] <= 32 && temp[2] >= 16) # Z4 (x -> 0 to 8, y -> 16 to 32)\n",
    "        push!(SS[starter_set[i,1]][4], temp) # Assign coordinates to player's fourth array of tuples (Zone 4)\n",
    "        \n",
    "    elseif (temp[1] >= 8 && temp[1] <= 16 && temp[2] <= 32 && temp[2] >= 16) # Z5 (x -> 8 to 16, y -> 16 to 32)\n",
    "        push!(SS[starter_set[i,1]][5], temp) # Assign coordinates to player's fifth array of tuples (Zone 5)\n",
    "        \n",
    "    elseif (temp[1] >= 16 && temp[2] <= 32 && temp[2] >= 16) # Z6 (x -> 16 to 24, y -> 16 to 32)\n",
    "        push!(SS[starter_set[i,1]][6], temp) # Assign coordinates to player's sixth array of tuples (Zone 6)\n",
    "        \n",
    "    elseif (temp[1] <= 8 && temp[2] <= 16) # Z7 (x -> 0 to 8, y -> 0 to 16)\n",
    "        push!(SS[starter_set[i,1]][7], temp) # Assign coordinates to player's seventh array of tuples (Zone 7)\n",
    "        \n",
    "    elseif (temp[1] >= 8 && temp[1] <= 16 && temp[2] <= 16) # Z8 (x -> 8 to 16, y -> 0 to 16)\n",
    "        push!(SS[starter_set[i,1]][8], temp) # Assign coordinates to player's eighth array of tuples (Zone 8)\n",
    "        \n",
    "    elseif (temp[1] >= 16 && temp[2] <= 16) # Z9 (x -> 16 to 24, y -> 0 to 16)\n",
    "        push!(SS[starter_set[i,1]][9], temp) # Assign coordinates to player's ninth array of tuples (Zone 9)\n",
    "    end\n",
    "end\n",
    "\n",
    "# Function to generate 2-6 points specific for centers (Z: 4)\n",
    "function CrandomSS(i)\n",
    "    temp = rand(Uniform(0,8), 1, 1)[1], rand(Uniform(16,32), 1, 1)[1] # Only generate points in Z4\n",
    "    SetPartition(temp, i) # Assign to the corresponding player's array of sweet spots\n",
    "\n",
    "end\n",
    "\n",
    "# Function to generate 2-6 points specific for forwards (Z: 1, 2, 4, 5, 7, 8)\n",
    "function FrandomSS(i)\n",
    "    temp = rand(Uniform(0,16), 1, 1)[1], rand(Uniform(0,48), 1, 1)[1] # Generate points in Z1, Z2, Z4, Z5, Z7, or Z8\n",
    "    SetPartition(temp, i) # Assign to the corresponding player's array of sweet spots\n",
    "end\n",
    "\n",
    "# Function to generate 2-6 points specific for guards (Z: 2, 3, 6, 8, 9)\n",
    "function GrandomSS(i) \n",
    "    tb = rand(1:3) # Randomly decide which zone to generate sweetspots in\n",
    "    if tb == 1\n",
    "        temp = rand(Uniform(8,24), 1, 1)[1], rand(Uniform(0,16), 1, 1)[1] # Generate points in Z8 or Z9\n",
    "        SetPartition(temp, i) # Assign to the corresponding player's array of sweet spots\n",
    "          \n",
    "    elseif tb == 2\n",
    "        temp = rand(Uniform(16,24), 1, 1)[1], rand(Uniform(16,32), 1, 1)[1] # Generate points in Z6\n",
    "        SetPartition(temp, i) # Assign to the corresponding player's array of sweet spots\n",
    "        \n",
    "    elseif tb == 3\n",
    "        temp = rand(Uniform(8,24), 1, 1)[1], rand(Uniform(32,48), 1, 1)[1] # Generate points in Z2 or Z3\n",
    "        SetPartition(temp, i) # Assign to the corresponding player's array of sweet spots\n",
    "            \n",
    "    end\n",
    "end\n",
    "\n",
    "for i in 1:6 # Iterate over centers\n",
    "    for j in 1:rand(2:6) # Assign 2 - 6 specific points\n",
    "        CrandomSS(i)\n",
    "    end\n",
    "end\n",
    "for i in 7:18 # Iterate over forwards\n",
    "    for j in 1:rand(2:6) # Assign 2 - 6 specific points\n",
    "        FrandomSS(i)\n",
    "    end\n",
    "end\n",
    "for i in 19:30 # Iterate over guards\n",
    "    for j in 1:rand(2:6) # Assign 2 - 6 specific points\n",
    "        GrandomSS(i)\n",
    "    end\n",
    "end\n",
    "\n",
    "# After assigning 2 - 6 points based on player position, assign 1 - 3 randomly over the entire court\n",
    "for i in 1:30 \n",
    "    for j in 1:rand(1:3) # Assign 1 - 3 random points\n",
    "        temp = rand(Uniform(0,24), 1, 1)[1], rand(Uniform(0,48), 1, 1)[1] # Z: 1, 2, 3, 4, 5, 6, 7, 8, 9\n",
    "        SetPartition(temp, i) # Assign to zones corresponding to the coordinate values\n",
    "    end\n",
    "end"
   ]
  },
  {
   "cell_type": "code",
   "execution_count": 17,
   "metadata": {},
   "outputs": [],
   "source": [
    "using Combinatorics"
   ]
  },
  {
   "cell_type": "code",
   "execution_count": 18,
   "metadata": {},
   "outputs": [
    {
     "data": {
      "text/plain": [
       "142506-element Array{Array{Any,1},1}:\n",
       " Any[\"Dewayne Dedmon C\", \"Al Horford F\", \"Jarrett Allen C\", \"Cody Zeller F\", \"Robin Lopez C\"]            \n",
       " Any[\"Dewayne Dedmon C\", \"Al Horford F\", \"Jarrett Allen C\", \"Cody Zeller F\", \"Kevin Love F\"]             \n",
       " Any[\"Dewayne Dedmon C\", \"Al Horford F\", \"Jarrett Allen C\", \"Cody Zeller F\", \"Taurean Prince F\"]         \n",
       " Any[\"Dewayne Dedmon C\", \"Al Horford F\", \"Jarrett Allen C\", \"Cody Zeller F\", \"Jaylen Brown F\"]           \n",
       " Any[\"Dewayne Dedmon C\", \"Al Horford F\", \"Jarrett Allen C\", \"Cody Zeller F\", \"DeMarre Carroll F\"]        \n",
       " Any[\"Dewayne Dedmon C\", \"Al Horford F\", \"Jarrett Allen C\", \"Cody Zeller F\", \"Marvin Williams F\"]        \n",
       " Any[\"Dewayne Dedmon C\", \"Al Horford F\", \"Jarrett Allen C\", \"Cody Zeller F\", \"Lauri Markkanen F\"]        \n",
       " Any[\"Dewayne Dedmon C\", \"Al Horford F\", \"Jarrett Allen C\", \"Cody Zeller F\", \"Tristan Thompson F\"]       \n",
       " Any[\"Dewayne Dedmon C\", \"Al Horford F\", \"Jarrett Allen C\", \"Cody Zeller F\", \"John Collins F\"]           \n",
       " Any[\"Dewayne Dedmon C\", \"Al Horford F\", \"Jarrett Allen C\", \"Cody Zeller F\", \"Gordon Hayward F\"]         \n",
       " Any[\"Dewayne Dedmon C\", \"Al Horford F\", \"Jarrett Allen C\", \"Cody Zeller F\", \"Rondae Hollis-Jefferson F\"]\n",
       " Any[\"Dewayne Dedmon C\", \"Al Horford F\", \"Jarrett Allen C\", \"Cody Zeller F\", \"Jeremy Lamb G\"]            \n",
       " Any[\"Dewayne Dedmon C\", \"Al Horford F\", \"Jarrett Allen C\", \"Cody Zeller F\", \"Jabari Parker F\"]          \n",
       " ⋮                                                                                                       \n",
       " Any[\"Rodney Hood G\", \"Trae Young G\", \"Nicolas Batum G\", \"Zach LaVine G\", \"JR Smith G\"]                  \n",
       " Any[\"Rodney Hood G\", \"Kyrie Irving G\", \"Allen Crabbe G\", \"Nicolas Batum G\", \"Zach LaVine G\"]            \n",
       " Any[\"Rodney Hood G\", \"Kyrie Irving G\", \"Allen Crabbe G\", \"Nicolas Batum G\", \"JR Smith G\"]               \n",
       " Any[\"Rodney Hood G\", \"Kyrie Irving G\", \"Allen Crabbe G\", \"Zach LaVine G\", \"JR Smith G\"]                 \n",
       " Any[\"Rodney Hood G\", \"Kyrie Irving G\", \"Nicolas Batum G\", \"Zach LaVine G\", \"JR Smith G\"]                \n",
       " Any[\"Rodney Hood G\", \"Allen Crabbe G\", \"Nicolas Batum G\", \"Zach LaVine G\", \"JR Smith G\"]                \n",
       " Any[\"Trae Young G\", \"Kyrie Irving G\", \"Allen Crabbe G\", \"Nicolas Batum G\", \"Zach LaVine G\"]             \n",
       " Any[\"Trae Young G\", \"Kyrie Irving G\", \"Allen Crabbe G\", \"Nicolas Batum G\", \"JR Smith G\"]                \n",
       " Any[\"Trae Young G\", \"Kyrie Irving G\", \"Allen Crabbe G\", \"Zach LaVine G\", \"JR Smith G\"]                  \n",
       " Any[\"Trae Young G\", \"Kyrie Irving G\", \"Nicolas Batum G\", \"Zach LaVine G\", \"JR Smith G\"]                 \n",
       " Any[\"Trae Young G\", \"Allen Crabbe G\", \"Nicolas Batum G\", \"Zach LaVine G\", \"JR Smith G\"]                 \n",
       " Any[\"Kyrie Irving G\", \"Allen Crabbe G\", \"Nicolas Batum G\", \"Zach LaVine G\", \"JR Smith G\"]               "
      ]
     },
     "execution_count": 18,
     "metadata": {},
     "output_type": "execute_result"
    }
   ],
   "source": [
    "# Generate all the possible combinations of the 30 players and teams of 5\n",
    "coll = collect(combinations(ps, 5))"
   ]
  },
  {
   "cell_type": "code",
   "execution_count": 155,
   "metadata": {},
   "outputs": [
    {
     "name": "stdout",
     "output_type": "stream",
     "text": [
      "21294\n"
     ]
    }
   ],
   "source": [
    "cl = length(coll) # Current size of the combinations array\n",
    "center = 0 # Track the number of centers\n",
    "forward = 0 # Track the number of forwards\n",
    "guard = 0 # Track the number of guards\n",
    "i = 1 # Current index in the array\n",
    "\n",
    "#Iterate over the entire combinations array and remove teams that do not satisfy composition of 1 center, 2 forwards, 2 guards\n",
    "while i <= cl # As the size of the array will be changed, i and cl must be changed dynamically\n",
    "    for j in 1:5 # For all the players in a team\n",
    "        nl = length(coll[i][j]) # Get the length of the players name (their position is at the last index)\n",
    "        \n",
    "        if coll[i][j][nl] == 'C' # If player is a center\n",
    "            center = center + 1 # Increment the amount of centers\n",
    "            if center > 1 # There should only be 1 center\n",
    "                deleteat!(coll, i) # multiple centers, remove team composition\n",
    "                cl = length(coll) # Update the length of the combinations array\n",
    "                i = i - 1 # Set the current index back to make up for removed element\n",
    "                break\n",
    "            end\n",
    "            \n",
    "        elseif coll[i][j][nl] == 'F' # If player is a forward\n",
    "            forward = forward + 1 # Increment the amount of forwards\n",
    "            if forward > 2 # There should only be 2 forwards\n",
    "                deleteat!(coll, i) # More than 2 forwards, remove team composition\n",
    "                cl = length(coll) # Update the length of the combinations array\n",
    "                i = i - 1 # Set the current index back to make up for removed element\n",
    "                break\n",
    "            end\n",
    "            \n",
    "        elseif coll[i][j][nl] == 'G' # If player is a guard\n",
    "            guard = guard + 1 # Increment the amount of guards\n",
    "            if guard > 2 # There should only be 2 guards\n",
    "                deleteat!(coll, i) # More than 2 guards, remove team composition\n",
    "                cl = length(coll) # Update the length of the combinations array\n",
    "                i = i - 1 # Set the current index back to make up for removed element\n",
    "                break\n",
    "            end\n",
    "        end\n",
    "    end\n",
    "    # Reset tracking values\n",
    "    center = 0 # reset center count\n",
    "    forward = 0 # reset forward count\n",
    "    guard = 0 # reset guard count\n",
    "    i = i + 1\n",
    "end\n",
    "\n",
    "println(length(coll)) # The number of combinations with 1 center, 2 forwards, and 2 guards"
   ]
  },
  {
   "cell_type": "code",
   "execution_count": 20,
   "metadata": {},
   "outputs": [
    {
     "data": {
      "text/latex": [
       "$$ -0.12285032164498855 p_{1} - 0.11680031696749071 p_{2} - 0.09256257496040143 p_{3} - 0.0861853083478395 p_{4} - 0.18654869109210248 p_{5} - 0.16153140891856255 p_{6} - 0.09340462327501331 p_{7} - 0.09629046308102784 p_{8} - 0.10019230436757237 p_{9} - 0.10744405222186104 p_{10} - 0.06597735658753157 p_{11} - 0.13098126615314148 p_{12} - 0.13390661200447684 p_{13} - 0.09738076124006206 p_{14} - 0.15919750383134817 p_{15} - 0.0916297260248049 p_{16} - 0.13049183958250254 p_{17} - 0.10802192170741587 p_{18} - 0.116060282846361 p_{19} - 0.13310642744125434 p_{20} - 0.11443633665922998 p_{21} - 0.12228659839584544 p_{22} - 0.11590697407721501 p_{23} - 0.14494461567326167 p_{24} - 0.09378496253396412 p_{25} - 0.1142228774479912 p_{26} - 0.10347970278715518 p_{27} - 0.11745662358584169 p_{28} - 0.0267626212858606 p_{29} - 0.10410829189052845 p_{30} - 0.2046827761399614 p_{31} - 0.16881323199389775 p_{32} - 0.1689270347177229 p_{33} - 0.1676975740259543 p_{34} - 0.18653926026782802 p_{35} - 0.16351269226180387 p_{36} - 0.20661983802574474 p_{37} - 0.11429010100828979 p_{38} - 0.1488836052990583 p_{39} - 0.13987582184311004 p_{40} - 0.14339025075249778 p_{41} - 0.15529802025087236 p_{42} - 0.12191333225510043 p_{43} - 0.19386294709455248 p_{44} - 0.14743596998391384 p_{45} - 0.17606733755425502 p_{46} - 0.05824268032296431 p_{47} - 0.10725417007130839 p_{48} - 0.13965764721973412 p_{49} - 0.2537078371668717 p_{50} - 0.11689761574883567 p_{51} - 0.17396103791469097 p_{52} - 0.17416506630165535 p_{53} - 0.2807989860528606 p_{54} - 0.13416429267317354 p_{55} - 0.16756726735964889 p_{56} - 0.14342975679781866 p_{57} - 0.12553449077010753 p_{58} - 0.146695935862784 p_{59} - 0.17374757870345214 p_{60} - 0.126771024580082 p_{61} - 0.1566017776211453 p_{62} - 0.19279800874442743 p_{63} - 0.167416891254417 p_{64} - 0.21288330191448146 p_{65} - 0.17654555055239635 p_{66} - 0.18372300172818057 p_{67} - 0.20347867525710212 p_{68} - 0.19793638384094636 p_{69} - 0.1524699731808819 p_{70} - 0.20429772146887337 p_{71} - 0.13264236067952473 p_{72} - 0.15674329785994823 p_{73} - 0.15547433112285886 p_{74} - 0.12727638013535547 p_{75} - 0.15955719869352702 p_{76} - 0.14577723316359914 p_{77} - 0.2413501471431791 p_{78} - 0.1910189710399272 p_{79} - 0.22376563910805164 p_{80} - 0.12218694190843188 p_{81} - 0.16966235342671543 p_{82} - 0.2004790327272622 p_{83} - 0.23610740014710951 p_{84} - 0.12334210592169598 p_{85} - 0.19862334063818915 p_{86} - 0.1464152530912467 p_{87} - 0.19110448129092922 p_{88} - 0.07068409784943563 p_{89} - 0.1867898678183189 p_{90} - 0.21879885947138222 p_{91} - 0.17286838204958815 p_{92} - 0.18942745777991127 p_{93} - 0.19235987674945249 p_{94} - 0.1986115521078461 p_{95} - 0.19581415521674744 p_{96} - 0.1783293036690336 p_{97} - 0.18590595575231772 p_{98} - 0.15881716457239725 p_{99} - 0.1347303736283854 p_{100} - 0.12398248355541225 p_{101} - 0.1292670943028712 p_{102} - 0.1122858155622079 p_{103} - 0.19822649743675802 p_{104} - 0.1585435549190658 p_{105} - 0.1761092013056444 p_{106} - 0.12073694888721881 p_{107} - 0.20649010631728493 p_{108} - 0.19806433280118313 p_{109} - 0.2325511074863323 p_{110} - 0.18723743063756842 p_{111} - 0.13741218504743574 p_{112} - 0.18370885549176896 p_{113} - 0.25317654684484336 p_{114} - 0.1443160265698885 p_{115} - 0.1779813973371977 p_{116} - 0.1736479222160387 p_{117} - 0.13757670738907912 p_{118} - 0.1658183048761951 p_{119} - 0.1811225601058406 p_{120} - 0.2273036450781255 p_{121} - 0.12951298644122494 p_{122} - 0.19974135631220108 p_{123} - 0.1804868978842616 p_{124} - 0.21260969226114995 p_{125} - 0.2708978597066366 p_{126} - 0.2142867157721679 p_{127} - 0.18005997946178404 p_{128} - 0.173754651821658 p_{129} - 0.19038330881834836 p_{130} - 0.13226202142057386 p_{131} - 0.17339259925341055 p_{132} - 0.24676684730516657 p_{133} - 0.1701287778945137 p_{134} - 0.19032494112447867 p_{135} - 0.20323278311874832 p_{136} - 0.11845433837566804 p_{137} - 0.18915384812657976 p_{138} - 0.2079583860292013 p_{139} - 0.21370234812625272 p_{140} - 0.14038117739838363 p_{141} - 0.18146103561340193 p_{142} - 0.1403233846623595 p_{143} - 0.20641345193271177 p_{144} - 0.1683680268807169 p_{145} - 0.1730541237458491 p_{146} - 0.15941567845472415 p_{147} - 0.12123580628213199 p_{148} - 0.15091560826011796 p_{149} - 0.22525513817458565 p_{150} + 0.05514955745353019 p_{151} + 0.059527743536616134 p_{152} + 0.05897695343973212 p_{153} + 0.046298410757164746 p_{154} + 0.037389933993676 p_{155} + 0.0358302900277602 p_{156} + 0.05930222145377753 p_{157} + 0.045936238464465345 p_{158} + 0.04475012476779035 p_{159} + 0.06216342139418739 p_{160} + 0.051533495224595674 p_{161} + 0.0403037345593521 p_{162} + 0.05057929018628743 p_{163} + 0.047617078252785924 p_{164} + 0.055502903893457904 p_{165} + 0.046643080456950786 p_{166} + 0.013596681851897871 p_{167} + 0.039967499640551504 p_{168} + 0.03707846323341554 p_{169} + 0.06607077055406925 p_{170} + 0.05238795433169713 p_{171} + 0.06019665714771896 p_{172} + 0.0746430123987574 p_{173} + 0.05179796979154559 p_{174} + 0.05325928300076947 p_{175} + 0.031592943411975855 p_{176} + 0.057539529398949726 p_{177} + 0.05125790464026056 p_{178} + 0.06243862090673627 p_{179} + 0.049926222034426884 p_{180} + 0.03050862385196497 p_{181} + 0.05772239365854863 p_{182} + 0.06571537590868425 p_{183} + 0.031393991733978485 p_{184} + 0.03305630482665707 p_{185} + 0.03235789761515705 p_{186} + 0.0403018354665248 p_{187} + 0.03901802404410032 p_{188} + 0.04486595811739562 p_{189} + 0.0460205300082161 p_{190} + 0.029740355381441597 p_{191} + 0.041956104850004144 p_{192} + 0.04145396808010175 p_{193} + 0.02713417112426754 p_{194} + 0.03568662021142882 p_{195} + 0.03903513556522746 p_{196} + 0.04201982149265558 p_{197} + 0.037641635409569635 p_{198} + 0.04474949173684792 p_{199} + 0.0484131831900354 p_{200} + 0.03491094106264864 p_{201} + 0.07282488936963362 p_{202} + 0.03931569755057583 p_{203} + 0.027288565886197907 p_{204} + 0.05521059285978189 p_{205} + 0.040232998310230084 p_{206} + 0.04293278388223899 p_{207} + 0.046561470149599785 p_{208} + 0.041007262284495374 p_{209} + 0.03319027380011812 p_{210} + 0.039927914125497774 p_{211} + 0.04663669388142265 p_{212} + 0.0338587963394347 p_{213} + 0.039732909745785 p_{214} + 0.04252400646801528 p_{215} + 0.04213936018138925 p_{216} + 0.03877168510100619 p_{217} + 0.03950470642654666 p_{218} + 0.04096562856398431 p_{219} + 0.06157943235777777 p_{220} + 0.045982601626833444 p_{221} + 0.04818727003541057 p_{222} + 0.035948022470192756 p_{223} + 0.04811882395090207 p_{224} + 0.04432794117156791 p_{225} + 0.027594674173658865 p_{226} + 0.04174091664097829 p_{227} + 0.04011424176506885 p_{228} + 0.036392438101185615 p_{229} + 0.03471900899112185 p_{230} + 0.027144263038924088 p_{231} + 0.03479179344570117 p_{232} + 0.03545100621393367 p_{233} + 0.04113776787798425 p_{234} + 0.03893514767486443 p_{235} + 0.02874783088996448 p_{236} + 0.044821010129542385 p_{237} + 0.045023034115725724 p_{238} + 0.03553656381956931 p_{239} + 0.04917877042415904 p_{240} + 0.03172257401536609 p_{241} + 0.05447693850329899 p_{242} + 0.040911221692416976 p_{243} + 0.023486325130322325 p_{244} + 0.04037130565376196 p_{245} + 0.034595523004103554 p_{246} + 0.037205021528619805 p_{247} + 0.03686737143530433 p_{248} + 0.03615516697001939 p_{249} + 0.03782323360728365 p_{250} + 0.04282002284081969 p_{251} + 0.02823638434897799 p_{252} + 0.038120274082816735 p_{253} + 0.03263309712770594 p_{254} + 0.027011318168191703 p_{255} + 0.038915987948279995 p_{256} + 0.04534893516071356 p_{257} + 0.037971241793685856 p_{258} + 0.03648643048780671 p_{259} + 0.037433224847858146 p_{260} + 0.031186847234151882 p_{261} + 0.03720463045683357 p_{262} + 0.058780682998134506 p_{263} + 0.02357661217781501 p_{264} + 0.032733476089855176 p_{265} + 0.03288518961538581 p_{266} + 0.0326025794245801 p_{267} + 0.051520089042596945 p_{268} + 0.03719288140850595 p_{269} + 0.0606262514221982 p_{270} + 0.031913873055950434 p_{271} + 0.041403657619449016 p_{272} + 0.03970239204265916 p_{273} + 0.034664993191340726 p_{274} + 0.0238074967334531 p_{275} + 0.03244652752897867 p_{276} + 0.036393462203914276 p_{277} + 0.042933807984967653 p_{278} + 0.07416934512652357 p_{279} + 0.04365405615945184 p_{280} + 0.0292804853629927 p_{281} + 0.02959502843143913 p_{282} + 0.032393777791082407 p_{283} + 0.08324040947377193 p_{284} + 0.03318554435826107 p_{285} + 0.03254919665574141 p_{286} + 0.04153187304832437 p_{287} + 0.039407399772583396 p_{288} + 0.026646222679936327 p_{289} + 0.03297713379654958 p_{290} + 0.03604035772314276 p_{291} + 0.031851422475183855 p_{292} + 0.040274632030741137 p_{293} + 0.02758434029984612 p_{294} + 0.031405740782306124 p_{295} + 0.04496799421321594 p_{296} + 0.03219009667122798 p_{297} + 0.045629888217848164 p_{298} + 0.03253106103188565 p_{299} + 0.0385445058844965 p_{300} + 1.0943263045050506 $$"
      ],
      "text/plain": [
       "-0.12285032164498855 p[1] - 0.11680031696749071 p[2] - 0.09256257496040143 p[3] - 0.0861853083478395 p[4] - 0.18654869109210248 p[5] - 0.16153140891856255 p[6] - 0.09340462327501331 p[7] - 0.09629046308102784 p[8] - 0.10019230436757237 p[9] - 0.10744405222186104 p[10] - 0.06597735658753157 p[11] - 0.13098126615314148 p[12] - 0.13390661200447684 p[13] - 0.09738076124006206 p[14] - 0.15919750383134817 p[15] - 0.0916297260248049 p[16] - 0.13049183958250254 p[17] - 0.10802192170741587 p[18] - 0.116060282846361 p[19] - 0.13310642744125434 p[20] - 0.11443633665922998 p[21] - 0.12228659839584544 p[22] - 0.11590697407721501 p[23] - 0.14494461567326167 p[24] - 0.09378496253396412 p[25] - 0.1142228774479912 p[26] - 0.10347970278715518 p[27] - 0.11745662358584169 p[28] - 0.0267626212858606 p[29] - 0.10410829189052845 p[30] - 0.2046827761399614 p[31] - 0.16881323199389775 p[32] - 0.1689270347177229 p[33] - 0.1676975740259543 p[34] - 0.18653926026782802 p[35] - 0.16351269226180387 p[36] - 0.20661983802574474 p[37] - 0.11429010100828979 p[38] - 0.1488836052990583 p[39] - 0.13987582184311004 p[40] - 0.14339025075249778 p[41] - 0.15529802025087236 p[42] - 0.12191333225510043 p[43] - 0.19386294709455248 p[44] - 0.14743596998391384 p[45] - 0.17606733755425502 p[46] - 0.05824268032296431 p[47] - 0.10725417007130839 p[48] - 0.13965764721973412 p[49] - 0.2537078371668717 p[50] - 0.11689761574883567 p[51] - 0.17396103791469097 p[52] - 0.17416506630165535 p[53] - 0.2807989860528606 p[54] - 0.13416429267317354 p[55] - 0.16756726735964889 p[56] - 0.14342975679781866 p[57] - 0.12553449077010753 p[58] - 0.146695935862784 p[59] - 0.17374757870345214 p[60] - 0.126771024580082 p[61] - 0.1566017776211453 p[62] - 0.19279800874442743 p[63] - 0.167416891254417 p[64] - 0.21288330191448146 p[65] - 0.17654555055239635 p[66] - 0.18372300172818057 p[67] - 0.20347867525710212 p[68] - 0.19793638384094636 p[69] - 0.1524699731808819 p[70] - 0.20429772146887337 p[71] - 0.13264236067952473 p[72] - 0.15674329785994823 p[73] - 0.15547433112285886 p[74] - 0.12727638013535547 p[75] - 0.15955719869352702 p[76] - 0.14577723316359914 p[77] - 0.2413501471431791 p[78] - 0.1910189710399272 p[79] - 0.22376563910805164 p[80] - 0.12218694190843188 p[81] - 0.16966235342671543 p[82] - 0.2004790327272622 p[83] - 0.23610740014710951 p[84] - 0.12334210592169598 p[85] - 0.19862334063818915 p[86] - 0.1464152530912467 p[87] - 0.19110448129092922 p[88] - 0.07068409784943563 p[89] - 0.1867898678183189 p[90] - 0.21879885947138222 p[91] - 0.17286838204958815 p[92] - 0.18942745777991127 p[93] - 0.19235987674945249 p[94] - 0.1986115521078461 p[95] - 0.19581415521674744 p[96] - 0.1783293036690336 p[97] - 0.18590595575231772 p[98] - 0.15881716457239725 p[99] - 0.1347303736283854 p[100] - 0.12398248355541225 p[101] - 0.1292670943028712 p[102] - 0.1122858155622079 p[103] - 0.19822649743675802 p[104] - 0.1585435549190658 p[105] - 0.1761092013056444 p[106] - 0.12073694888721881 p[107] - 0.20649010631728493 p[108] - 0.19806433280118313 p[109] - 0.2325511074863323 p[110] - 0.18723743063756842 p[111] - 0.13741218504743574 p[112] - 0.18370885549176896 p[113] - 0.25317654684484336 p[114] - 0.1443160265698885 p[115] - 0.1779813973371977 p[116] - 0.1736479222160387 p[117] - 0.13757670738907912 p[118] - 0.1658183048761951 p[119] - 0.1811225601058406 p[120] - 0.2273036450781255 p[121] - 0.12951298644122494 p[122] - 0.19974135631220108 p[123] - 0.1804868978842616 p[124] - 0.21260969226114995 p[125] - 0.2708978597066366 p[126] - 0.2142867157721679 p[127] - 0.18005997946178404 p[128] - 0.173754651821658 p[129] - 0.19038330881834836 p[130] - 0.13226202142057386 p[131] - 0.17339259925341055 p[132] - 0.24676684730516657 p[133] - 0.1701287778945137 p[134] - 0.19032494112447867 p[135] - 0.20323278311874832 p[136] - 0.11845433837566804 p[137] - 0.18915384812657976 p[138] - 0.2079583860292013 p[139] - 0.21370234812625272 p[140] - 0.14038117739838363 p[141] - 0.18146103561340193 p[142] - 0.1403233846623595 p[143] - 0.20641345193271177 p[144] - 0.1683680268807169 p[145] - 0.1730541237458491 p[146] - 0.15941567845472415 p[147] - 0.12123580628213199 p[148] - 0.15091560826011796 p[149] - 0.22525513817458565 p[150] + 0.05514955745353019 p[151] + 0.059527743536616134 p[152] + 0.05897695343973212 p[153] + 0.046298410757164746 p[154] + 0.037389933993676 p[155] + 0.0358302900277602 p[156] + 0.05930222145377753 p[157] + 0.045936238464465345 p[158] + 0.04475012476779035 p[159] + 0.06216342139418739 p[160] + 0.051533495224595674 p[161] + 0.0403037345593521 p[162] + 0.05057929018628743 p[163] + 0.047617078252785924 p[164] + 0.055502903893457904 p[165] + 0.046643080456950786 p[166] + 0.013596681851897871 p[167] + 0.039967499640551504 p[168] + 0.03707846323341554 p[169] + 0.06607077055406925 p[170] + 0.05238795433169713 p[171] + 0.06019665714771896 p[172] + 0.0746430123987574 p[173] + 0.05179796979154559 p[174] + 0.05325928300076947 p[175] + 0.031592943411975855 p[176] + 0.057539529398949726 p[177] + 0.05125790464026056 p[178] + 0.06243862090673627 p[179] + 0.049926222034426884 p[180] + 0.03050862385196497 p[181] + 0.05772239365854863 p[182] + 0.06571537590868425 p[183] + 0.031393991733978485 p[184] + 0.03305630482665707 p[185] + 0.03235789761515705 p[186] + 0.0403018354665248 p[187] + 0.03901802404410032 p[188] + 0.04486595811739562 p[189] + 0.0460205300082161 p[190] + 0.029740355381441597 p[191] + 0.041956104850004144 p[192] + 0.04145396808010175 p[193] + 0.02713417112426754 p[194] + 0.03568662021142882 p[195] + 0.03903513556522746 p[196] + 0.04201982149265558 p[197] + 0.037641635409569635 p[198] + 0.04474949173684792 p[199] + 0.0484131831900354 p[200] + 0.03491094106264864 p[201] + 0.07282488936963362 p[202] + 0.03931569755057583 p[203] + 0.027288565886197907 p[204] + 0.05521059285978189 p[205] + 0.040232998310230084 p[206] + 0.04293278388223899 p[207] + 0.046561470149599785 p[208] + 0.041007262284495374 p[209] + 0.03319027380011812 p[210] + 0.039927914125497774 p[211] + 0.04663669388142265 p[212] + 0.0338587963394347 p[213] + 0.039732909745785 p[214] + 0.04252400646801528 p[215] + 0.04213936018138925 p[216] + 0.03877168510100619 p[217] + 0.03950470642654666 p[218] + 0.04096562856398431 p[219] + 0.06157943235777777 p[220] + 0.045982601626833444 p[221] + 0.04818727003541057 p[222] + 0.035948022470192756 p[223] + 0.04811882395090207 p[224] + 0.04432794117156791 p[225] + 0.027594674173658865 p[226] + 0.04174091664097829 p[227] + 0.04011424176506885 p[228] + 0.036392438101185615 p[229] + 0.03471900899112185 p[230] + 0.027144263038924088 p[231] + 0.03479179344570117 p[232] + 0.03545100621393367 p[233] + 0.04113776787798425 p[234] + 0.03893514767486443 p[235] + 0.02874783088996448 p[236] + 0.044821010129542385 p[237] + 0.045023034115725724 p[238] + 0.03553656381956931 p[239] + 0.04917877042415904 p[240] + 0.03172257401536609 p[241] + 0.05447693850329899 p[242] + 0.040911221692416976 p[243] + 0.023486325130322325 p[244] + 0.04037130565376196 p[245] + 0.034595523004103554 p[246] + 0.037205021528619805 p[247] + 0.03686737143530433 p[248] + 0.03615516697001939 p[249] + 0.03782323360728365 p[250] + 0.04282002284081969 p[251] + 0.02823638434897799 p[252] + 0.038120274082816735 p[253] + 0.03263309712770594 p[254] + 0.027011318168191703 p[255] + 0.038915987948279995 p[256] + 0.04534893516071356 p[257] + 0.037971241793685856 p[258] + 0.03648643048780671 p[259] + 0.037433224847858146 p[260] + 0.031186847234151882 p[261] + 0.03720463045683357 p[262] + 0.058780682998134506 p[263] + 0.02357661217781501 p[264] + 0.032733476089855176 p[265] + 0.03288518961538581 p[266] + 0.0326025794245801 p[267] + 0.051520089042596945 p[268] + 0.03719288140850595 p[269] + 0.0606262514221982 p[270] + 0.031913873055950434 p[271] + 0.041403657619449016 p[272] + 0.03970239204265916 p[273] + 0.034664993191340726 p[274] + 0.0238074967334531 p[275] + 0.03244652752897867 p[276] + 0.036393462203914276 p[277] + 0.042933807984967653 p[278] + 0.07416934512652357 p[279] + 0.04365405615945184 p[280] + 0.0292804853629927 p[281] + 0.02959502843143913 p[282] + 0.032393777791082407 p[283] + 0.08324040947377193 p[284] + 0.03318554435826107 p[285] + 0.03254919665574141 p[286] + 0.04153187304832437 p[287] + 0.039407399772583396 p[288] + 0.026646222679936327 p[289] + 0.03297713379654958 p[290] + 0.03604035772314276 p[291] + 0.031851422475183855 p[292] + 0.040274632030741137 p[293] + 0.02758434029984612 p[294] + 0.031405740782306124 p[295] + 0.04496799421321594 p[296] + 0.03219009667122798 p[297] + 0.045629888217848164 p[298] + 0.03253106103188565 p[299] + 0.0385445058844965 p[300] + 1.0943263045050506"
      ]
     },
     "execution_count": 20,
     "metadata": {},
     "output_type": "execute_result"
    }
   ],
   "source": [
    "using JuMP, Gurobi\n",
    "λ = 0\n",
    "\n",
    "m = Model(solver = GurobiSolver(OutputFlag=0))\n",
    "\n",
    "@variable(m, t[1:21294] >= 0, Bin)\n",
    "\n",
    "@expression(m, full_lineup, )"
   ]
  }
 ],
 "metadata": {
  "kernelspec": {
   "display_name": "Julia 0.6.4",
   "language": "julia",
   "name": "julia-0.6"
  },
  "language_info": {
   "file_extension": ".jl",
   "mimetype": "application/julia",
   "name": "julia",
   "version": "0.6.4"
  }
 },
 "nbformat": 4,
 "nbformat_minor": 2
}
